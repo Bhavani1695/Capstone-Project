{
 "cells": [
  {
   "cell_type": "markdown",
   "metadata": {},
   "source": [
    "## Importing libraries"
   ]
  },
  {
   "cell_type": "code",
   "execution_count": 1,
   "metadata": {},
   "outputs": [],
   "source": [
    "#Importing the Libraries\n",
    "import numpy as np\n",
    "import pandas as pd\n",
    "\n",
    "import scipy.stats as stats\n",
    "from scipy.stats import shapiro\n",
    "import matplotlib.pyplot as plt\n",
    "import statsmodels.api as sm\n",
    "\n",
    "# special matplotlib argument for improved plots\n",
    "from matplotlib import rcParams\n",
    "import numpy as np\n",
    "import pandas as pd\n",
    "import math\n",
    "import matplotlib.pyplot as plt\n",
    "\n",
    "import sklearn\n",
    "from sklearn import linear_model\n",
    "from sklearn import preprocessing\n",
    "from sklearn import metrics\n",
    "from sklearn.model_selection import train_test_split\n",
    "from sklearn.preprocessing import LabelEncoder\n",
    "from sklearn.linear_model import LinearRegression, Ridge,Lasso\n",
    "\n",
    "import seaborn as sns\n",
    "sns.set_style(\"whitegrid\")\n",
    "sns.set_context(\"poster\")\n"
   ]
  },
  {
   "cell_type": "code",
   "execution_count": 2,
   "metadata": {},
   "outputs": [
    {
     "data": {
      "text/html": [
       "<div>\n",
       "<style scoped>\n",
       "    .dataframe tbody tr th:only-of-type {\n",
       "        vertical-align: middle;\n",
       "    }\n",
       "\n",
       "    .dataframe tbody tr th {\n",
       "        vertical-align: top;\n",
       "    }\n",
       "\n",
       "    .dataframe thead th {\n",
       "        text-align: right;\n",
       "    }\n",
       "</style>\n",
       "<table border=\"1\" class=\"dataframe\">\n",
       "  <thead>\n",
       "    <tr style=\"text-align: right;\">\n",
       "      <th></th>\n",
       "      <th>Unnamed: 0</th>\n",
       "      <th>X</th>\n",
       "      <th>Carat</th>\n",
       "      <th>Color</th>\n",
       "      <th>Clarity</th>\n",
       "      <th>Depth</th>\n",
       "      <th>PricePerCt</th>\n",
       "      <th>TotalPrice</th>\n",
       "    </tr>\n",
       "  </thead>\n",
       "  <tbody>\n",
       "    <tr>\n",
       "      <th>0</th>\n",
       "      <td>1</td>\n",
       "      <td>1</td>\n",
       "      <td>1.08</td>\n",
       "      <td>E</td>\n",
       "      <td>VS1</td>\n",
       "      <td>68.6</td>\n",
       "      <td>6693.3</td>\n",
       "      <td>7228.8</td>\n",
       "    </tr>\n",
       "    <tr>\n",
       "      <th>1</th>\n",
       "      <td>2</td>\n",
       "      <td>2</td>\n",
       "      <td>0.31</td>\n",
       "      <td>F</td>\n",
       "      <td>VVS1</td>\n",
       "      <td>61.9</td>\n",
       "      <td>3159.0</td>\n",
       "      <td>979.3</td>\n",
       "    </tr>\n",
       "    <tr>\n",
       "      <th>2</th>\n",
       "      <td>3</td>\n",
       "      <td>3</td>\n",
       "      <td>0.32</td>\n",
       "      <td>F</td>\n",
       "      <td>VVS1</td>\n",
       "      <td>60.8</td>\n",
       "      <td>3159.0</td>\n",
       "      <td>1010.9</td>\n",
       "    </tr>\n",
       "    <tr>\n",
       "      <th>3</th>\n",
       "      <td>4</td>\n",
       "      <td>4</td>\n",
       "      <td>0.33</td>\n",
       "      <td>D</td>\n",
       "      <td>IF</td>\n",
       "      <td>60.8</td>\n",
       "      <td>4758.8</td>\n",
       "      <td>1570.4</td>\n",
       "    </tr>\n",
       "    <tr>\n",
       "      <th>4</th>\n",
       "      <td>5</td>\n",
       "      <td>5</td>\n",
       "      <td>0.33</td>\n",
       "      <td>G</td>\n",
       "      <td>VVS1</td>\n",
       "      <td>61.5</td>\n",
       "      <td>2895.8</td>\n",
       "      <td>955.6</td>\n",
       "    </tr>\n",
       "  </tbody>\n",
       "</table>\n",
       "</div>"
      ],
      "text/plain": [
       "   Unnamed: 0  X  Carat Color Clarity  Depth  PricePerCt  TotalPrice\n",
       "0           1  1   1.08     E     VS1   68.6      6693.3      7228.8\n",
       "1           2  2   0.31     F    VVS1   61.9      3159.0       979.3\n",
       "2           3  3   0.32     F    VVS1   60.8      3159.0      1010.9\n",
       "3           4  4   0.33     D      IF   60.8      4758.8      1570.4\n",
       "4           5  5   0.33     G    VVS1   61.5      2895.8       955.6"
      ]
     },
     "execution_count": 2,
     "metadata": {},
     "output_type": "execute_result"
    }
   ],
   "source": [
    "data = pd.read_csv('Diamond_Price.csv')\n",
    "data.head()"
   ]
  },
  {
   "cell_type": "code",
   "execution_count": 3,
   "metadata": {},
   "outputs": [
    {
     "data": {
      "text/plain": [
       "(307, 8)"
      ]
     },
     "execution_count": 3,
     "metadata": {},
     "output_type": "execute_result"
    }
   ],
   "source": [
    "data.shape"
   ]
  },
  {
   "cell_type": "code",
   "execution_count": 4,
   "metadata": {},
   "outputs": [
    {
     "data": {
      "text/html": [
       "<div>\n",
       "<style scoped>\n",
       "    .dataframe tbody tr th:only-of-type {\n",
       "        vertical-align: middle;\n",
       "    }\n",
       "\n",
       "    .dataframe tbody tr th {\n",
       "        vertical-align: top;\n",
       "    }\n",
       "\n",
       "    .dataframe thead th {\n",
       "        text-align: right;\n",
       "    }\n",
       "</style>\n",
       "<table border=\"1\" class=\"dataframe\">\n",
       "  <thead>\n",
       "    <tr style=\"text-align: right;\">\n",
       "      <th></th>\n",
       "      <th>Carat</th>\n",
       "      <th>Color</th>\n",
       "      <th>Clarity</th>\n",
       "      <th>Depth</th>\n",
       "      <th>PricePerCt</th>\n",
       "      <th>TotalPrice</th>\n",
       "    </tr>\n",
       "  </thead>\n",
       "  <tbody>\n",
       "    <tr>\n",
       "      <th>0</th>\n",
       "      <td>1.08</td>\n",
       "      <td>E</td>\n",
       "      <td>VS1</td>\n",
       "      <td>68.6</td>\n",
       "      <td>6693.3</td>\n",
       "      <td>7228.8</td>\n",
       "    </tr>\n",
       "    <tr>\n",
       "      <th>1</th>\n",
       "      <td>0.31</td>\n",
       "      <td>F</td>\n",
       "      <td>VVS1</td>\n",
       "      <td>61.9</td>\n",
       "      <td>3159.0</td>\n",
       "      <td>979.3</td>\n",
       "    </tr>\n",
       "    <tr>\n",
       "      <th>2</th>\n",
       "      <td>0.32</td>\n",
       "      <td>F</td>\n",
       "      <td>VVS1</td>\n",
       "      <td>60.8</td>\n",
       "      <td>3159.0</td>\n",
       "      <td>1010.9</td>\n",
       "    </tr>\n",
       "    <tr>\n",
       "      <th>3</th>\n",
       "      <td>0.33</td>\n",
       "      <td>D</td>\n",
       "      <td>IF</td>\n",
       "      <td>60.8</td>\n",
       "      <td>4758.8</td>\n",
       "      <td>1570.4</td>\n",
       "    </tr>\n",
       "    <tr>\n",
       "      <th>4</th>\n",
       "      <td>0.33</td>\n",
       "      <td>G</td>\n",
       "      <td>VVS1</td>\n",
       "      <td>61.5</td>\n",
       "      <td>2895.8</td>\n",
       "      <td>955.6</td>\n",
       "    </tr>\n",
       "    <tr>\n",
       "      <th>...</th>\n",
       "      <td>...</td>\n",
       "      <td>...</td>\n",
       "      <td>...</td>\n",
       "      <td>...</td>\n",
       "      <td>...</td>\n",
       "      <td>...</td>\n",
       "    </tr>\n",
       "    <tr>\n",
       "      <th>302</th>\n",
       "      <td>1.52</td>\n",
       "      <td>F</td>\n",
       "      <td>SI2</td>\n",
       "      <td>63.4</td>\n",
       "      <td>4826.3</td>\n",
       "      <td>7335.9</td>\n",
       "    </tr>\n",
       "    <tr>\n",
       "      <th>303</th>\n",
       "      <td>0.97</td>\n",
       "      <td>G</td>\n",
       "      <td>VVS1</td>\n",
       "      <td>70.0</td>\n",
       "      <td>5177.3</td>\n",
       "      <td>5021.9</td>\n",
       "    </tr>\n",
       "    <tr>\n",
       "      <th>304</th>\n",
       "      <td>1.25</td>\n",
       "      <td>G</td>\n",
       "      <td>VS2</td>\n",
       "      <td>71.9</td>\n",
       "      <td>5607.9</td>\n",
       "      <td>7009.9</td>\n",
       "    </tr>\n",
       "    <tr>\n",
       "      <th>305</th>\n",
       "      <td>1.52</td>\n",
       "      <td>F</td>\n",
       "      <td>VS1</td>\n",
       "      <td>70.4</td>\n",
       "      <td>7634.3</td>\n",
       "      <td>11604.1</td>\n",
       "    </tr>\n",
       "    <tr>\n",
       "      <th>306</th>\n",
       "      <td>1.72</td>\n",
       "      <td>G</td>\n",
       "      <td>VS1</td>\n",
       "      <td>69.1</td>\n",
       "      <td>8081.1</td>\n",
       "      <td>13899.5</td>\n",
       "    </tr>\n",
       "  </tbody>\n",
       "</table>\n",
       "<p>307 rows × 6 columns</p>\n",
       "</div>"
      ],
      "text/plain": [
       "     Carat Color Clarity  Depth  PricePerCt  TotalPrice\n",
       "0     1.08     E     VS1   68.6      6693.3      7228.8\n",
       "1     0.31     F    VVS1   61.9      3159.0       979.3\n",
       "2     0.32     F    VVS1   60.8      3159.0      1010.9\n",
       "3     0.33     D      IF   60.8      4758.8      1570.4\n",
       "4     0.33     G    VVS1   61.5      2895.8       955.6\n",
       "..     ...   ...     ...    ...         ...         ...\n",
       "302   1.52     F     SI2   63.4      4826.3      7335.9\n",
       "303   0.97     G    VVS1   70.0      5177.3      5021.9\n",
       "304   1.25     G     VS2   71.9      5607.9      7009.9\n",
       "305   1.52     F     VS1   70.4      7634.3     11604.1\n",
       "306   1.72     G     VS1   69.1      8081.1     13899.5\n",
       "\n",
       "[307 rows x 6 columns]"
      ]
     },
     "execution_count": 4,
     "metadata": {},
     "output_type": "execute_result"
    }
   ],
   "source": [
    "data1=data.drop([\"Unnamed: 0\", \"X\"],axis=1)\n",
    "data1"
   ]
  },
  {
   "cell_type": "code",
   "execution_count": 5,
   "metadata": {},
   "outputs": [
    {
     "data": {
      "text/plain": [
       "0"
      ]
     },
     "execution_count": 5,
     "metadata": {},
     "output_type": "execute_result"
    }
   ],
   "source": [
    "data1.isnull().T.any().T.sum()"
   ]
  },
  {
   "cell_type": "code",
   "execution_count": 6,
   "metadata": {},
   "outputs": [
    {
     "data": {
      "text/plain": [
       "Carat         False\n",
       "Color         False\n",
       "Clarity       False\n",
       "Depth         False\n",
       "PricePerCt    False\n",
       "TotalPrice    False\n",
       "dtype: bool"
      ]
     },
     "execution_count": 6,
     "metadata": {},
     "output_type": "execute_result"
    }
   ],
   "source": [
    "data1.isna().any()"
   ]
  },
  {
   "cell_type": "code",
   "execution_count": 7,
   "metadata": {},
   "outputs": [
    {
     "name": "stdout",
     "output_type": "stream",
     "text": [
      "Requirement already satisfied: pandas-profiling in c:\\users\\bhavani\\anaconda3\\lib\\site-packages (3.4.0)\n",
      "Requirement already satisfied: htmlmin==0.1.12 in c:\\users\\bhavani\\anaconda3\\lib\\site-packages (from pandas-profiling) (0.1.12)\n",
      "Requirement already satisfied: numpy<1.24,>=1.16.0 in c:\\users\\bhavani\\anaconda3\\lib\\site-packages (from pandas-profiling) (1.18.1)\n",
      "Requirement already satisfied: requests<2.29,>=2.24.0 in c:\\users\\bhavani\\anaconda3\\lib\\site-packages (from pandas-profiling) (2.28.1)\n",
      "Requirement already satisfied: phik<0.13,>=0.11.1 in c:\\users\\bhavani\\anaconda3\\lib\\site-packages (from pandas-profiling) (0.12.2)\n",
      "Requirement already satisfied: missingno<0.6,>=0.4.2 in c:\\users\\bhavani\\anaconda3\\lib\\site-packages (from pandas-profiling) (0.5.1)\n",
      "Requirement already satisfied: seaborn<0.13,>=0.10.1 in c:\\users\\bhavani\\anaconda3\\lib\\site-packages (from pandas-profiling) (0.12.1)\n",
      "Requirement already satisfied: multimethod<1.10,>=1.4 in c:\\users\\bhavani\\anaconda3\\lib\\site-packages (from pandas-profiling) (1.9)\n",
      "Requirement already satisfied: pandas!=1.4.0,<1.6,>1.1 in c:\\users\\bhavani\\anaconda3\\lib\\site-packages (from pandas-profiling) (1.3.5)\n",
      "Requirement already satisfied: visions[type_image_path]==0.7.5 in c:\\users\\bhavani\\anaconda3\\lib\\site-packages (from pandas-profiling) (0.7.5)\n",
      "Requirement already satisfied: statsmodels<0.14,>=0.13.2 in c:\\users\\bhavani\\anaconda3\\lib\\site-packages (from pandas-profiling) (0.13.2)\n",
      "Requirement already satisfied: tqdm<4.65,>=4.48.2 in c:\\users\\bhavani\\anaconda3\\lib\\site-packages (from pandas-profiling) (4.64.1)\n",
      "Requirement already satisfied: matplotlib<3.6,>=3.2 in c:\\users\\bhavani\\anaconda3\\lib\\site-packages (from pandas-profiling) (3.5.3)\n",
      "Requirement already satisfied: pydantic<1.11,>=1.8.1 in c:\\users\\bhavani\\anaconda3\\lib\\site-packages (from pandas-profiling) (1.10.2)\n",
      "Requirement already satisfied: jinja2<3.2,>=2.11.1 in c:\\users\\bhavani\\anaconda3\\lib\\site-packages (from pandas-profiling) (2.11.1)\n",
      "Requirement already satisfied: PyYAML<6.1,>=5.0.0 in c:\\users\\bhavani\\anaconda3\\lib\\site-packages (from pandas-profiling) (5.3)\n",
      "Requirement already satisfied: scipy<1.10,>=1.4.1 in c:\\users\\bhavani\\anaconda3\\lib\\site-packages (from pandas-profiling) (1.4.1)\n",
      "Requirement already satisfied: idna<4,>=2.5 in c:\\users\\bhavani\\anaconda3\\lib\\site-packages (from requests<2.29,>=2.24.0->pandas-profiling) (2.8)\n",
      "Requirement already satisfied: urllib3<1.27,>=1.21.1 in c:\\users\\bhavani\\anaconda3\\lib\\site-packages (from requests<2.29,>=2.24.0->pandas-profiling) (1.25.8)\n",
      "Requirement already satisfied: certifi>=2017.4.17 in c:\\users\\bhavani\\anaconda3\\lib\\site-packages (from requests<2.29,>=2.24.0->pandas-profiling) (2019.11.28)\n",
      "Requirement already satisfied: charset-normalizer<3,>=2 in c:\\users\\bhavani\\anaconda3\\lib\\site-packages (from requests<2.29,>=2.24.0->pandas-profiling) (2.1.1)\n",
      "Requirement already satisfied: joblib>=0.14.1 in c:\\users\\bhavani\\anaconda3\\lib\\site-packages (from phik<0.13,>=0.11.1->pandas-profiling) (0.14.1)\n",
      "Requirement already satisfied: typing_extensions; python_version < \"3.8\" in c:\\users\\bhavani\\anaconda3\\lib\\site-packages (from seaborn<0.13,>=0.10.1->pandas-profiling) (4.4.0)\n",
      "Requirement already satisfied: pytz>=2017.3 in c:\\users\\bhavani\\anaconda3\\lib\\site-packages (from pandas!=1.4.0,<1.6,>1.1->pandas-profiling) (2019.3)\n",
      "Requirement already satisfied: python-dateutil>=2.7.3 in c:\\users\\bhavani\\anaconda3\\lib\\site-packages (from pandas!=1.4.0,<1.6,>1.1->pandas-profiling) (2.8.1)\n",
      "Requirement already satisfied: attrs>=19.3.0 in c:\\users\\bhavani\\anaconda3\\lib\\site-packages (from visions[type_image_path]==0.7.5->pandas-profiling) (19.3.0)\n",
      "Requirement already satisfied: networkx>=2.4 in c:\\users\\bhavani\\anaconda3\\lib\\site-packages (from visions[type_image_path]==0.7.5->pandas-profiling) (2.4)\n",
      "Requirement already satisfied: tangled-up-in-unicode>=0.0.4 in c:\\users\\bhavani\\anaconda3\\lib\\site-packages (from visions[type_image_path]==0.7.5->pandas-profiling) (0.2.0)\n",
      "Requirement already satisfied: imagehash; extra == \"type_image_path\" in c:\\users\\bhavani\\anaconda3\\lib\\site-packages (from visions[type_image_path]==0.7.5->pandas-profiling) (4.3.1)\n",
      "Requirement already satisfied: Pillow; extra == \"type_image_path\" in c:\\users\\bhavani\\anaconda3\\lib\\site-packages (from visions[type_image_path]==0.7.5->pandas-profiling) (7.0.0)\n",
      "Requirement already satisfied: packaging>=21.3 in c:\\users\\bhavani\\anaconda3\\lib\\site-packages (from statsmodels<0.14,>=0.13.2->pandas-profiling) (21.3)\n",
      "Requirement already satisfied: patsy>=0.5.2 in c:\\users\\bhavani\\anaconda3\\lib\\site-packages (from statsmodels<0.14,>=0.13.2->pandas-profiling) (0.5.3)\n",
      "Requirement already satisfied: colorama; platform_system == \"Windows\" in c:\\users\\bhavani\\anaconda3\\lib\\site-packages (from tqdm<4.65,>=4.48.2->pandas-profiling) (0.4.3)\n",
      "Requirement already satisfied: pyparsing>=2.2.1 in c:\\users\\bhavani\\anaconda3\\lib\\site-packages (from matplotlib<3.6,>=3.2->pandas-profiling) (2.4.6)\n",
      "Requirement already satisfied: fonttools>=4.22.0 in c:\\users\\bhavani\\anaconda3\\lib\\site-packages (from matplotlib<3.6,>=3.2->pandas-profiling) (4.38.0)\n",
      "Requirement already satisfied: kiwisolver>=1.0.1 in c:\\users\\bhavani\\anaconda3\\lib\\site-packages (from matplotlib<3.6,>=3.2->pandas-profiling) (1.1.0)\n",
      "Requirement already satisfied: cycler>=0.10 in c:\\users\\bhavani\\anaconda3\\lib\\site-packages (from matplotlib<3.6,>=3.2->pandas-profiling) (0.10.0)\n",
      "Requirement already satisfied: MarkupSafe>=0.23 in c:\\users\\bhavani\\anaconda3\\lib\\site-packages (from jinja2<3.2,>=2.11.1->pandas-profiling) (1.1.1)\n",
      "Requirement already satisfied: six>=1.5 in c:\\users\\bhavani\\anaconda3\\lib\\site-packages (from python-dateutil>=2.7.3->pandas!=1.4.0,<1.6,>1.1->pandas-profiling) (1.14.0)\n",
      "Requirement already satisfied: decorator>=4.3.0 in c:\\users\\bhavani\\anaconda3\\lib\\site-packages (from networkx>=2.4->visions[type_image_path]==0.7.5->pandas-profiling) (4.4.1)\n",
      "Requirement already satisfied: PyWavelets in c:\\users\\bhavani\\anaconda3\\lib\\site-packages (from imagehash; extra == \"type_image_path\"->visions[type_image_path]==0.7.5->pandas-profiling) (1.1.1)\n",
      "Requirement already satisfied: setuptools in c:\\users\\bhavani\\anaconda3\\lib\\site-packages (from kiwisolver>=1.0.1->matplotlib<3.6,>=3.2->pandas-profiling) (45.2.0.post20200210)\n"
     ]
    }
   ],
   "source": [
    "! pip install pandas-profiling"
   ]
  },
  {
   "cell_type": "markdown",
   "metadata": {},
   "source": [
    "## Generating a quick report of Dataset"
   ]
  },
  {
   "cell_type": "code",
   "execution_count": 8,
   "metadata": {},
   "outputs": [],
   "source": [
    "from pandas_profiling import ProfileReport"
   ]
  },
  {
   "cell_type": "code",
   "execution_count": 9,
   "metadata": {},
   "outputs": [
    {
     "data": {
      "application/vnd.jupyter.widget-view+json": {
       "model_id": "6beff3a0daf24964bd951884dfb6ba40",
       "version_major": 2,
       "version_minor": 0
      },
      "text/plain": [
       "Summarize dataset:   0%|          | 0/5 [00:00<?, ?it/s]"
      ]
     },
     "metadata": {},
     "output_type": "display_data"
    },
    {
     "data": {
      "application/vnd.jupyter.widget-view+json": {
       "model_id": "a98a5dafdcb3451dac0f340b34a1b1d6",
       "version_major": 2,
       "version_minor": 0
      },
      "text/plain": [
       "Generate report structure:   0%|          | 0/1 [00:00<?, ?it/s]"
      ]
     },
     "metadata": {},
     "output_type": "display_data"
    },
    {
     "data": {
      "application/vnd.jupyter.widget-view+json": {
       "model_id": "580447b640a84e7fb08846e811bc43f9",
       "version_major": 2,
       "version_minor": 0
      },
      "text/plain": [
       "Render HTML:   0%|          | 0/1 [00:00<?, ?it/s]"
      ]
     },
     "metadata": {},
     "output_type": "display_data"
    },
    {
     "data": {
      "application/vnd.jupyter.widget-view+json": {
       "model_id": "15b91179cd544632aca8ec9bb98203da",
       "version_major": 2,
       "version_minor": 0
      },
      "text/plain": [
       "Export report to file:   0%|          | 0/1 [00:00<?, ?it/s]"
      ]
     },
     "metadata": {},
     "output_type": "display_data"
    }
   ],
   "source": [
    "profile = ProfileReport(data1)\n",
    "profile.to_file(output_file=\"daimonds.html\")"
   ]
  },
  {
   "cell_type": "code",
   "execution_count": 10,
   "metadata": {},
   "outputs": [
    {
     "name": "stdout",
     "output_type": "stream",
     "text": [
      "<class 'pandas.core.frame.DataFrame'>\n",
      "RangeIndex: 307 entries, 0 to 306\n",
      "Data columns (total 6 columns):\n",
      " #   Column      Non-Null Count  Dtype  \n",
      "---  ------      --------------  -----  \n",
      " 0   Carat       307 non-null    float64\n",
      " 1   Color       307 non-null    object \n",
      " 2   Clarity     307 non-null    object \n",
      " 3   Depth       307 non-null    float64\n",
      " 4   PricePerCt  307 non-null    float64\n",
      " 5   TotalPrice  307 non-null    float64\n",
      "dtypes: float64(4), object(2)\n",
      "memory usage: 14.5+ KB\n"
     ]
    }
   ],
   "source": [
    "data1.info()"
   ]
  },
  {
   "cell_type": "code",
   "execution_count": 11,
   "metadata": {},
   "outputs": [
    {
     "data": {
      "text/html": [
       "<div>\n",
       "<style scoped>\n",
       "    .dataframe tbody tr th:only-of-type {\n",
       "        vertical-align: middle;\n",
       "    }\n",
       "\n",
       "    .dataframe tbody tr th {\n",
       "        vertical-align: top;\n",
       "    }\n",
       "\n",
       "    .dataframe thead th {\n",
       "        text-align: right;\n",
       "    }\n",
       "</style>\n",
       "<table border=\"1\" class=\"dataframe\">\n",
       "  <thead>\n",
       "    <tr style=\"text-align: right;\">\n",
       "      <th></th>\n",
       "      <th>Carat</th>\n",
       "      <th>Depth</th>\n",
       "      <th>PricePerCt</th>\n",
       "      <th>TotalPrice</th>\n",
       "    </tr>\n",
       "  </thead>\n",
       "  <tbody>\n",
       "    <tr>\n",
       "      <th>count</th>\n",
       "      <td>307.000000</td>\n",
       "      <td>307.000000</td>\n",
       "      <td>307.000000</td>\n",
       "      <td>307.000000</td>\n",
       "    </tr>\n",
       "    <tr>\n",
       "      <th>mean</th>\n",
       "      <td>0.973094</td>\n",
       "      <td>64.446580</td>\n",
       "      <td>6292.845277</td>\n",
       "      <td>7381.345928</td>\n",
       "    </tr>\n",
       "    <tr>\n",
       "      <th>std</th>\n",
       "      <td>0.493946</td>\n",
       "      <td>5.174909</td>\n",
       "      <td>2969.074593</td>\n",
       "      <td>8000.251838</td>\n",
       "    </tr>\n",
       "    <tr>\n",
       "      <th>min</th>\n",
       "      <td>0.310000</td>\n",
       "      <td>58.200000</td>\n",
       "      <td>1782.000000</td>\n",
       "      <td>853.300000</td>\n",
       "    </tr>\n",
       "    <tr>\n",
       "      <th>25%</th>\n",
       "      <td>0.630000</td>\n",
       "      <td>61.200000</td>\n",
       "      <td>4212.000000</td>\n",
       "      <td>2759.850000</td>\n",
       "    </tr>\n",
       "    <tr>\n",
       "      <th>50%</th>\n",
       "      <td>0.820000</td>\n",
       "      <td>62.000000</td>\n",
       "      <td>5197.500000</td>\n",
       "      <td>4243.800000</td>\n",
       "    </tr>\n",
       "    <tr>\n",
       "      <th>75%</th>\n",
       "      <td>1.220000</td>\n",
       "      <td>68.650000</td>\n",
       "      <td>7987.950000</td>\n",
       "      <td>9298.800000</td>\n",
       "    </tr>\n",
       "    <tr>\n",
       "      <th>max</th>\n",
       "      <td>3.350000</td>\n",
       "      <td>79.200000</td>\n",
       "      <td>17671.500000</td>\n",
       "      <td>56454.400000</td>\n",
       "    </tr>\n",
       "  </tbody>\n",
       "</table>\n",
       "</div>"
      ],
      "text/plain": [
       "            Carat       Depth    PricePerCt    TotalPrice\n",
       "count  307.000000  307.000000    307.000000    307.000000\n",
       "mean     0.973094   64.446580   6292.845277   7381.345928\n",
       "std      0.493946    5.174909   2969.074593   8000.251838\n",
       "min      0.310000   58.200000   1782.000000    853.300000\n",
       "25%      0.630000   61.200000   4212.000000   2759.850000\n",
       "50%      0.820000   62.000000   5197.500000   4243.800000\n",
       "75%      1.220000   68.650000   7987.950000   9298.800000\n",
       "max      3.350000   79.200000  17671.500000  56454.400000"
      ]
     },
     "execution_count": 11,
     "metadata": {},
     "output_type": "execute_result"
    }
   ],
   "source": [
    "data1.describe()"
   ]
  },
  {
   "cell_type": "code",
   "execution_count": 12,
   "metadata": {},
   "outputs": [
    {
     "data": {
      "image/png": "[encoded data removed]",
      "text/plain": [
       "<Figure size 640x480 with 1 Axes>"
      ]
     },
     "metadata": {},
     "output_type": "display_data"
    },
    {
     "name": "stdout",
     "output_type": "stream",
     "text": [
      "correlation  0.24043799921763423\n"
     ]
    }
   ],
   "source": [
    "#Encode the status as number then use the dataframe pearson correlation function to return the correlation\n",
    "from sklearn.preprocessing import LabelEncoder\n",
    "x=range(len(data1))\n",
    "sns.scatterplot(x=x, y='TotalPrice',data=data1,hue='Color')\n",
    "plt.show()\n",
    "encoder=LabelEncoder()\n",
    "encoder.fit(data1['Color'])\n",
    "data1['Color_enc']=encoder.transform(data1['Color'])\n",
    "corr=data1['TotalPrice'].corr(data1['Color_enc'])\n",
    "print(\"correlation \",corr)\n",
    "\n"
   ]
  },
  {
   "cell_type": "code",
   "execution_count": 13,
   "metadata": {},
   "outputs": [
    {
     "data": {
      "image/png": "[encoded data removed]",
      "text/plain": [
       "<Figure size 640x480 with 1 Axes>"
      ]
     },
     "metadata": {},
     "output_type": "display_data"
    },
    {
     "name": "stdout",
     "output_type": "stream",
     "text": [
      "correlation  0.08693552093508636\n"
     ]
    }
   ],
   "source": [
    "from sklearn.preprocessing import LabelEncoder\n",
    "x=range(len(data1))\n",
    "sns.scatterplot(x=x, y='TotalPrice',data=data1,hue='Clarity')\n",
    "plt.show()\n",
    "encoder=LabelEncoder()\n",
    "encoder.fit(data1['Clarity'])\n",
    "data1['Clarity_enc']=encoder.transform(data1['Clarity'])\n",
    "corr=data1['TotalPrice'].corr(data1['Clarity_enc'])\n",
    "print(\"correlation \",corr)"
   ]
  },
  {
   "cell_type": "code",
   "execution_count": 15,
   "metadata": {},
   "outputs": [],
   "source": [
    "X = data1[['Carat', 'Color_enc','Clarity_enc', 'Depth','PricePerCt']]\n",
    "Y =data1[['TotalPrice']]"
   ]
  },
  {
   "cell_type": "code",
   "execution_count": 16,
   "metadata": {},
   "outputs": [
    {
     "name": "stderr",
     "output_type": "stream",
     "text": [
      "C:\\Users\\Bhavani\\anaconda3\\lib\\site-packages\\ipykernel_launcher.py:10: FutureWarning: this method is deprecated in favour of `Styler.format(precision=..)`\n",
      "  # Remove the CWD from sys.path while we load stuff.\n"
     ]
    },
    {
     "data": {
      "text/html": [
       "<style type=\"text/css\">\n",
       "#T_71208_row0_col0, #T_71208_row0_col1, #T_71208_row0_col2, #T_71208_row0_col3, #T_71208_row0_col4, #T_71208_row1_col1, #T_71208_row1_col2, #T_71208_row1_col3, #T_71208_row1_col4, #T_71208_row2_col2, #T_71208_row2_col3, #T_71208_row2_col4, #T_71208_row3_col3, #T_71208_row3_col4, #T_71208_row4_col4 {\n",
       "  background-color: #000000;\n",
       "  color: #f1f1f1;\n",
       "  background-color: #f1f1f1;\n",
       "}\n",
       "#T_71208_row1_col0 {\n",
       "  background-color: #f6bda2;\n",
       "  color: #000000;\n",
       "}\n",
       "#T_71208_row2_col0 {\n",
       "  background-color: #dddcdc;\n",
       "  color: #000000;\n",
       "}\n",
       "#T_71208_row2_col1 {\n",
       "  background-color: #edd2c3;\n",
       "  color: #000000;\n",
       "}\n",
       "#T_71208_row3_col0 {\n",
       "  background-color: #f7b093;\n",
       "  color: #000000;\n",
       "}\n",
       "#T_71208_row3_col1, #T_71208_row4_col3 {\n",
       "  background-color: #eed0c0;\n",
       "  color: #000000;\n",
       "}\n",
       "#T_71208_row3_col2 {\n",
       "  background-color: #ead5c9;\n",
       "  color: #000000;\n",
       "}\n",
       "#T_71208_row4_col0 {\n",
       "  background-color: #cc403a;\n",
       "  color: #f1f1f1;\n",
       "}\n",
       "#T_71208_row4_col1 {\n",
       "  background-color: #f2c9b4;\n",
       "  color: #000000;\n",
       "}\n",
       "#T_71208_row4_col2 {\n",
       "  background-color: #e8d6cc;\n",
       "  color: #000000;\n",
       "}\n",
       "</style>\n",
       "<table id=\"T_71208_\">\n",
       "  <thead>\n",
       "    <tr>\n",
       "      <th class=\"blank level0\" >&nbsp;</th>\n",
       "      <th class=\"col_heading level0 col0\" >Carat</th>\n",
       "      <th class=\"col_heading level0 col1\" >Color_enc</th>\n",
       "      <th class=\"col_heading level0 col2\" >Clarity_enc</th>\n",
       "      <th class=\"col_heading level0 col3\" >Depth</th>\n",
       "      <th class=\"col_heading level0 col4\" >PricePerCt</th>\n",
       "    </tr>\n",
       "  </thead>\n",
       "  <tbody>\n",
       "    <tr>\n",
       "      <th id=\"T_71208_level0_row0\" class=\"row_heading level0 row0\" >Carat</th>\n",
       "      <td id=\"T_71208_row0_col0\" class=\"data row0 col0\" >nan</td>\n",
       "      <td id=\"T_71208_row0_col1\" class=\"data row0 col1\" >nan</td>\n",
       "      <td id=\"T_71208_row0_col2\" class=\"data row0 col2\" >nan</td>\n",
       "      <td id=\"T_71208_row0_col3\" class=\"data row0 col3\" >nan</td>\n",
       "      <td id=\"T_71208_row0_col4\" class=\"data row0 col4\" >nan</td>\n",
       "    </tr>\n",
       "    <tr>\n",
       "      <th id=\"T_71208_level0_row1\" class=\"row_heading level0 row1\" >Color_enc</th>\n",
       "      <td id=\"T_71208_row1_col0\" class=\"data row1 col0\" >0.30</td>\n",
       "      <td id=\"T_71208_row1_col1\" class=\"data row1 col1\" >nan</td>\n",
       "      <td id=\"T_71208_row1_col2\" class=\"data row1 col2\" >nan</td>\n",
       "      <td id=\"T_71208_row1_col3\" class=\"data row1 col3\" >nan</td>\n",
       "      <td id=\"T_71208_row1_col4\" class=\"data row1 col4\" >nan</td>\n",
       "    </tr>\n",
       "    <tr>\n",
       "      <th id=\"T_71208_level0_row2\" class=\"row_heading level0 row2\" >Clarity_enc</th>\n",
       "      <td id=\"T_71208_row2_col0\" class=\"data row2 col0\" >0.00</td>\n",
       "      <td id=\"T_71208_row2_col1\" class=\"data row2 col1\" >0.14</td>\n",
       "      <td id=\"T_71208_row2_col2\" class=\"data row2 col2\" >nan</td>\n",
       "      <td id=\"T_71208_row2_col3\" class=\"data row2 col3\" >nan</td>\n",
       "      <td id=\"T_71208_row2_col4\" class=\"data row2 col4\" >nan</td>\n",
       "    </tr>\n",
       "    <tr>\n",
       "      <th id=\"T_71208_level0_row3\" class=\"row_heading level0 row3\" >Depth</th>\n",
       "      <td id=\"T_71208_row3_col0\" class=\"data row3 col0\" >0.38</td>\n",
       "      <td id=\"T_71208_row3_col1\" class=\"data row3 col1\" >0.15</td>\n",
       "      <td id=\"T_71208_row3_col2\" class=\"data row3 col2\" >0.10</td>\n",
       "      <td id=\"T_71208_row3_col3\" class=\"data row3 col3\" >nan</td>\n",
       "      <td id=\"T_71208_row3_col4\" class=\"data row3 col4\" >nan</td>\n",
       "    </tr>\n",
       "    <tr>\n",
       "      <th id=\"T_71208_level0_row4\" class=\"row_heading level0 row4\" >PricePerCt</th>\n",
       "      <td id=\"T_71208_row4_col0\" class=\"data row4 col0\" >0.86</td>\n",
       "      <td id=\"T_71208_row4_col1\" class=\"data row4 col1\" >0.22</td>\n",
       "      <td id=\"T_71208_row4_col2\" class=\"data row4 col2\" >0.09</td>\n",
       "      <td id=\"T_71208_row4_col3\" class=\"data row4 col3\" >0.15</td>\n",
       "      <td id=\"T_71208_row4_col4\" class=\"data row4 col4\" >nan</td>\n",
       "    </tr>\n",
       "  </tbody>\n",
       "</table>\n"
      ],
      "text/plain": [
       "<pandas.io.formats.style.Styler at 0x17d260cf648>"
      ]
     },
     "execution_count": 16,
     "metadata": {},
     "output_type": "execute_result"
    }
   ],
   "source": [
    "# Fill diagonal and upper half with NaNs\n",
    "corr = X.corr()\n",
    "mask = np.zeros_like(corr, dtype=bool)\n",
    "mask[np.triu_indices_from(mask)] = True\n",
    "corr[mask] = np.nan\n",
    "(corr\n",
    " .style\n",
    " .background_gradient(cmap='coolwarm', axis=None, vmin=-1, vmax=1)\n",
    " .highlight_null(null_color='#f1f1f1')  # Color NaNs grey\n",
    " .set_precision(2))"
   ]
  },
  {
   "cell_type": "code",
   "execution_count": 17,
   "metadata": {},
   "outputs": [
    {
     "name": "stdout",
     "output_type": "stream",
     "text": [
      "       feature        VIF\n",
      "0        Carat  21.585499\n",
      "1    Color_enc   3.978846\n",
      "2  Clarity_enc   6.443608\n",
      "3        Depth  11.524859\n",
      "4   PricePerCt  21.566912\n"
     ]
    }
   ],
   "source": [
    "import statsmodels.api\n",
    "from statsmodels.stats.outliers_influence import variance_inflation_factor\n",
    "  \n",
    "# VIF dataframe\n",
    "vif_data1 = pd.DataFrame()\n",
    "vif_data1[\"feature\"] = X.columns\n",
    "  \n",
    "# calculating VIF for each feature\n",
    "vif_data1[\"VIF\"] = [variance_inflation_factor(X.values, k) \n",
    "                           for k in range(len(X.columns))]\n",
    "  \n",
    "print(vif_data1)"
   ]
  },
  {
   "cell_type": "code",
   "execution_count": 18,
   "metadata": {},
   "outputs": [],
   "source": [
    "data2=data1.drop([\"Color_enc\", \"Clarity_enc\"],axis=1)"
   ]
  },
  {
   "cell_type": "code",
   "execution_count": 20,
   "metadata": {},
   "outputs": [
    {
     "data": {
      "text/html": [
       "<div>\n",
       "<style scoped>\n",
       "    .dataframe tbody tr th:only-of-type {\n",
       "        vertical-align: middle;\n",
       "    }\n",
       "\n",
       "    .dataframe tbody tr th {\n",
       "        vertical-align: top;\n",
       "    }\n",
       "\n",
       "    .dataframe thead th {\n",
       "        text-align: right;\n",
       "    }\n",
       "</style>\n",
       "<table border=\"1\" class=\"dataframe\">\n",
       "  <thead>\n",
       "    <tr style=\"text-align: right;\">\n",
       "      <th></th>\n",
       "      <th>Carat</th>\n",
       "      <th>Depth</th>\n",
       "      <th>PricePerCt</th>\n",
       "      <th>TotalPrice</th>\n",
       "    </tr>\n",
       "  </thead>\n",
       "  <tbody>\n",
       "    <tr>\n",
       "      <th>0</th>\n",
       "      <td>1.08</td>\n",
       "      <td>68.6</td>\n",
       "      <td>6693.3</td>\n",
       "      <td>7228.8</td>\n",
       "    </tr>\n",
       "    <tr>\n",
       "      <th>1</th>\n",
       "      <td>0.31</td>\n",
       "      <td>61.9</td>\n",
       "      <td>3159.0</td>\n",
       "      <td>979.3</td>\n",
       "    </tr>\n",
       "    <tr>\n",
       "      <th>2</th>\n",
       "      <td>0.32</td>\n",
       "      <td>60.8</td>\n",
       "      <td>3159.0</td>\n",
       "      <td>1010.9</td>\n",
       "    </tr>\n",
       "    <tr>\n",
       "      <th>3</th>\n",
       "      <td>0.33</td>\n",
       "      <td>60.8</td>\n",
       "      <td>4758.8</td>\n",
       "      <td>1570.4</td>\n",
       "    </tr>\n",
       "    <tr>\n",
       "      <th>4</th>\n",
       "      <td>0.33</td>\n",
       "      <td>61.5</td>\n",
       "      <td>2895.8</td>\n",
       "      <td>955.6</td>\n",
       "    </tr>\n",
       "    <tr>\n",
       "      <th>...</th>\n",
       "      <td>...</td>\n",
       "      <td>...</td>\n",
       "      <td>...</td>\n",
       "      <td>...</td>\n",
       "    </tr>\n",
       "    <tr>\n",
       "      <th>302</th>\n",
       "      <td>1.52</td>\n",
       "      <td>63.4</td>\n",
       "      <td>4826.3</td>\n",
       "      <td>7335.9</td>\n",
       "    </tr>\n",
       "    <tr>\n",
       "      <th>303</th>\n",
       "      <td>0.97</td>\n",
       "      <td>70.0</td>\n",
       "      <td>5177.3</td>\n",
       "      <td>5021.9</td>\n",
       "    </tr>\n",
       "    <tr>\n",
       "      <th>304</th>\n",
       "      <td>1.25</td>\n",
       "      <td>71.9</td>\n",
       "      <td>5607.9</td>\n",
       "      <td>7009.9</td>\n",
       "    </tr>\n",
       "    <tr>\n",
       "      <th>305</th>\n",
       "      <td>1.52</td>\n",
       "      <td>70.4</td>\n",
       "      <td>7634.3</td>\n",
       "      <td>11604.1</td>\n",
       "    </tr>\n",
       "    <tr>\n",
       "      <th>306</th>\n",
       "      <td>1.72</td>\n",
       "      <td>69.1</td>\n",
       "      <td>8081.1</td>\n",
       "      <td>13899.5</td>\n",
       "    </tr>\n",
       "  </tbody>\n",
       "</table>\n",
       "<p>307 rows × 4 columns</p>\n",
       "</div>"
      ],
      "text/plain": [
       "     Carat  Depth  PricePerCt  TotalPrice\n",
       "0     1.08   68.6      6693.3      7228.8\n",
       "1     0.31   61.9      3159.0       979.3\n",
       "2     0.32   60.8      3159.0      1010.9\n",
       "3     0.33   60.8      4758.8      1570.4\n",
       "4     0.33   61.5      2895.8       955.6\n",
       "..     ...    ...         ...         ...\n",
       "302   1.52   63.4      4826.3      7335.9\n",
       "303   0.97   70.0      5177.3      5021.9\n",
       "304   1.25   71.9      5607.9      7009.9\n",
       "305   1.52   70.4      7634.3     11604.1\n",
       "306   1.72   69.1      8081.1     13899.5\n",
       "\n",
       "[307 rows x 4 columns]"
      ]
     },
     "execution_count": 20,
     "metadata": {},
     "output_type": "execute_result"
    }
   ],
   "source": [
    "data3=data2.drop([\"Color\",\"Clarity\"],axis=1)\n",
    "data3"
   ]
  },
  {
   "cell_type": "code",
   "execution_count": 21,
   "metadata": {},
   "outputs": [
    {
     "name": "stdout",
     "output_type": "stream",
     "text": [
      "Carat         0.0\n",
      "Depth         0.0\n",
      "PricePerCt    0.0\n",
      "TotalPrice    0.0\n",
      "Name: 0.25, dtype: float64\n"
     ]
    }
   ],
   "source": [
    "Q1 = data3.quantile(0.25)\n",
    "Q3 = data3.quantile(0.25)\n",
    "IQR = Q3 - Q1\n",
    "print(IQR)"
   ]
  },
  {
   "cell_type": "code",
   "execution_count": 22,
   "metadata": {},
   "outputs": [
    {
     "data": {
      "image/png": "[encoded data removed]",
      "text/plain": [
       "<Figure size 500x500 with 3 Axes>"
      ]
     },
     "metadata": {},
     "output_type": "display_data"
    }
   ],
   "source": [
    "# Outlier Analysis\n",
    "fig, axs = plt.subplots(3, figsize = (5,5))\n",
    "plt1 = sns.boxplot(data2['Carat'], ax = axs[0])\n",
    "plt2 = sns.boxplot(data2['Depth'], ax = axs[1])\n",
    "plt3 = sns.boxplot(data2['PricePerCt'], ax = axs[2])\n",
    "plt.tight_layout()"
   ]
  },
  {
   "cell_type": "code",
   "execution_count": 23,
   "metadata": {},
   "outputs": [
    {
     "data": {
      "text/plain": [
       "0.59"
      ]
     },
     "execution_count": 23,
     "metadata": {},
     "output_type": "execute_result"
    }
   ],
   "source": [
    "# IQR\n",
    "C_Q1 = np.percentile(data2['Carat'], 25,\n",
    "                   interpolation = 'midpoint')\n",
    " \n",
    "C_Q3 = np.percentile(data2['Carat'], 75,\n",
    "                   interpolation = 'midpoint')\n",
    "IQR1 = C_Q3 - C_Q1\n",
    "IQR1\n",
    "\n"
   ]
  },
  {
   "cell_type": "code",
   "execution_count": 24,
   "metadata": {},
   "outputs": [],
   "source": [
    "#Finding Upper and Lower limit\n",
    "C_upper_limit = C_Q3 + 1.5 * IQR1\n",
    "C_lower_limit = C_Q1 - 1.5 * IQR1"
   ]
  },
  {
   "cell_type": "code",
   "execution_count": 25,
   "metadata": {},
   "outputs": [
    {
     "data": {
      "text/html": [
       "<div>\n",
       "<style scoped>\n",
       "    .dataframe tbody tr th:only-of-type {\n",
       "        vertical-align: middle;\n",
       "    }\n",
       "\n",
       "    .dataframe tbody tr th {\n",
       "        vertical-align: top;\n",
       "    }\n",
       "\n",
       "    .dataframe thead th {\n",
       "        text-align: right;\n",
       "    }\n",
       "</style>\n",
       "<table border=\"1\" class=\"dataframe\">\n",
       "  <thead>\n",
       "    <tr style=\"text-align: right;\">\n",
       "      <th></th>\n",
       "      <th>Carat</th>\n",
       "      <th>Color</th>\n",
       "      <th>Clarity</th>\n",
       "      <th>Depth</th>\n",
       "      <th>PricePerCt</th>\n",
       "      <th>TotalPrice</th>\n",
       "    </tr>\n",
       "  </thead>\n",
       "  <tbody>\n",
       "  </tbody>\n",
       "</table>\n",
       "</div>"
      ],
      "text/plain": [
       "Empty DataFrame\n",
       "Columns: [Carat, Color, Clarity, Depth, PricePerCt, TotalPrice]\n",
       "Index: []"
      ]
     },
     "execution_count": 25,
     "metadata": {},
     "output_type": "execute_result"
    }
   ],
   "source": [
    "#Finding Outliers\n",
    "data2[data2['Carat'] > C_upper_limit]\n",
    "data2[data2['Carat'] < C_lower_limit]\n"
   ]
  },
  {
   "cell_type": "code",
   "execution_count": 26,
   "metadata": {},
   "outputs": [
    {
     "data": {
      "text/plain": [
       "7.450000000000003"
      ]
     },
     "execution_count": 26,
     "metadata": {},
     "output_type": "execute_result"
    }
   ],
   "source": [
    "# IQR\n",
    "D_Q1 = np.percentile(data2['Depth'], 25,\n",
    "                   interpolation = 'midpoint')\n",
    " \n",
    "D_Q3 = np.percentile(data2['Depth'], 75,\n",
    "                   interpolation = 'midpoint')\n",
    "IQR2 = D_Q3 - D_Q1\n",
    "IQR2\n"
   ]
  },
  {
   "cell_type": "code",
   "execution_count": 27,
   "metadata": {},
   "outputs": [
    {
     "data": {
      "text/plain": [
       "3775.95"
      ]
     },
     "execution_count": 27,
     "metadata": {},
     "output_type": "execute_result"
    }
   ],
   "source": [
    "# IQR\n",
    "P_Q1 = np.percentile(data2['PricePerCt'], 25,\n",
    "                   interpolation = 'midpoint')\n",
    " \n",
    "P_Q3 = np.percentile(data2['PricePerCt'], 75,\n",
    "                   interpolation = 'midpoint')\n",
    "IQR3 = P_Q3 - P_Q1\n",
    "IQR3\n",
    "\n",
    "\n"
   ]
  },
  {
   "cell_type": "code",
   "execution_count": 28,
   "metadata": {},
   "outputs": [
    {
     "name": "stdout",
     "output_type": "stream",
     "text": [
      "Highest allowed 15200.069057009568\n",
      "Lowest allowed -2614.3785032636297\n"
     ]
    }
   ],
   "source": [
    "print(\"Highest allowed\",data2['PricePerCt'].mean() + 3*data2['PricePerCt'].std())\n",
    "print(\"Lowest allowed\",data2['PricePerCt'].mean() - 3*data2['PricePerCt'].std())"
   ]
  },
  {
   "cell_type": "code",
   "execution_count": 29,
   "metadata": {},
   "outputs": [
    {
     "data": {
      "text/html": [
       "<div>\n",
       "<style scoped>\n",
       "    .dataframe tbody tr th:only-of-type {\n",
       "        vertical-align: middle;\n",
       "    }\n",
       "\n",
       "    .dataframe tbody tr th {\n",
       "        vertical-align: top;\n",
       "    }\n",
       "\n",
       "    .dataframe thead th {\n",
       "        text-align: right;\n",
       "    }\n",
       "</style>\n",
       "<table border=\"1\" class=\"dataframe\">\n",
       "  <thead>\n",
       "    <tr style=\"text-align: right;\">\n",
       "      <th></th>\n",
       "      <th>Carat</th>\n",
       "      <th>Color</th>\n",
       "      <th>Clarity</th>\n",
       "      <th>Depth</th>\n",
       "      <th>PricePerCt</th>\n",
       "      <th>TotalPrice</th>\n",
       "    </tr>\n",
       "  </thead>\n",
       "  <tbody>\n",
       "    <tr>\n",
       "      <th>200</th>\n",
       "      <td>1.33</td>\n",
       "      <td>E</td>\n",
       "      <td>VVS1</td>\n",
       "      <td>60.8</td>\n",
       "      <td>14158.8</td>\n",
       "      <td>18831.2</td>\n",
       "    </tr>\n",
       "    <tr>\n",
       "      <th>206</th>\n",
       "      <td>1.54</td>\n",
       "      <td>F</td>\n",
       "      <td>VVS1</td>\n",
       "      <td>62.0</td>\n",
       "      <td>15525.0</td>\n",
       "      <td>23908.5</td>\n",
       "    </tr>\n",
       "    <tr>\n",
       "      <th>217</th>\n",
       "      <td>2.10</td>\n",
       "      <td>F</td>\n",
       "      <td>VS1</td>\n",
       "      <td>60.2</td>\n",
       "      <td>17367.8</td>\n",
       "      <td>36472.3</td>\n",
       "    </tr>\n",
       "    <tr>\n",
       "      <th>220</th>\n",
       "      <td>2.14</td>\n",
       "      <td>G</td>\n",
       "      <td>VS1</td>\n",
       "      <td>62.1</td>\n",
       "      <td>16023.2</td>\n",
       "      <td>34289.5</td>\n",
       "    </tr>\n",
       "    <tr>\n",
       "      <th>221</th>\n",
       "      <td>2.20</td>\n",
       "      <td>G</td>\n",
       "      <td>VS1</td>\n",
       "      <td>62.3</td>\n",
       "      <td>16409.3</td>\n",
       "      <td>36100.4</td>\n",
       "    </tr>\n",
       "    <tr>\n",
       "      <th>295</th>\n",
       "      <td>2.06</td>\n",
       "      <td>F</td>\n",
       "      <td>VVS1</td>\n",
       "      <td>70.5</td>\n",
       "      <td>14175.0</td>\n",
       "      <td>29200.5</td>\n",
       "    </tr>\n",
       "    <tr>\n",
       "      <th>298</th>\n",
       "      <td>3.01</td>\n",
       "      <td>F</td>\n",
       "      <td>VVS1</td>\n",
       "      <td>71.5</td>\n",
       "      <td>17671.5</td>\n",
       "      <td>53191.2</td>\n",
       "    </tr>\n",
       "    <tr>\n",
       "      <th>299</th>\n",
       "      <td>3.01</td>\n",
       "      <td>G</td>\n",
       "      <td>VS1</td>\n",
       "      <td>72.0</td>\n",
       "      <td>14782.5</td>\n",
       "      <td>44495.3</td>\n",
       "    </tr>\n",
       "    <tr>\n",
       "      <th>300</th>\n",
       "      <td>3.17</td>\n",
       "      <td>F</td>\n",
       "      <td>VVS2</td>\n",
       "      <td>71.5</td>\n",
       "      <td>17313.8</td>\n",
       "      <td>54884.6</td>\n",
       "    </tr>\n",
       "    <tr>\n",
       "      <th>301</th>\n",
       "      <td>3.35</td>\n",
       "      <td>F</td>\n",
       "      <td>VVS2</td>\n",
       "      <td>75.2</td>\n",
       "      <td>16852.1</td>\n",
       "      <td>56454.4</td>\n",
       "    </tr>\n",
       "  </tbody>\n",
       "</table>\n",
       "</div>"
      ],
      "text/plain": [
       "     Carat Color Clarity  Depth  PricePerCt  TotalPrice\n",
       "200   1.33     E    VVS1   60.8     14158.8     18831.2\n",
       "206   1.54     F    VVS1   62.0     15525.0     23908.5\n",
       "217   2.10     F     VS1   60.2     17367.8     36472.3\n",
       "220   2.14     G     VS1   62.1     16023.2     34289.5\n",
       "221   2.20     G     VS1   62.3     16409.3     36100.4\n",
       "295   2.06     F    VVS1   70.5     14175.0     29200.5\n",
       "298   3.01     F    VVS1   71.5     17671.5     53191.2\n",
       "299   3.01     G     VS1   72.0     14782.5     44495.3\n",
       "300   3.17     F    VVS2   71.5     17313.8     54884.6\n",
       "301   3.35     F    VVS2   75.2     16852.1     56454.4"
      ]
     },
     "execution_count": 29,
     "metadata": {},
     "output_type": "execute_result"
    }
   ],
   "source": [
    "data2[(data2['PricePerCt'] > 13159.2 ) | (data2['PricePerCt'] < -1229)]"
   ]
  },
  {
   "cell_type": "code",
   "execution_count": 30,
   "metadata": {},
   "outputs": [
    {
     "data": {
      "text/html": [
       "<div>\n",
       "<style scoped>\n",
       "    .dataframe tbody tr th:only-of-type {\n",
       "        vertical-align: middle;\n",
       "    }\n",
       "\n",
       "    .dataframe tbody tr th {\n",
       "        vertical-align: top;\n",
       "    }\n",
       "\n",
       "    .dataframe thead th {\n",
       "        text-align: right;\n",
       "    }\n",
       "</style>\n",
       "<table border=\"1\" class=\"dataframe\">\n",
       "  <thead>\n",
       "    <tr style=\"text-align: right;\">\n",
       "      <th></th>\n",
       "      <th>Carat</th>\n",
       "      <th>Color</th>\n",
       "      <th>Clarity</th>\n",
       "      <th>Depth</th>\n",
       "      <th>PricePerCt</th>\n",
       "      <th>TotalPrice</th>\n",
       "    </tr>\n",
       "  </thead>\n",
       "  <tbody>\n",
       "    <tr>\n",
       "      <th>0</th>\n",
       "      <td>1.08</td>\n",
       "      <td>E</td>\n",
       "      <td>VS1</td>\n",
       "      <td>68.6</td>\n",
       "      <td>6693.3</td>\n",
       "      <td>7228.8</td>\n",
       "    </tr>\n",
       "    <tr>\n",
       "      <th>1</th>\n",
       "      <td>0.31</td>\n",
       "      <td>F</td>\n",
       "      <td>VVS1</td>\n",
       "      <td>61.9</td>\n",
       "      <td>3159.0</td>\n",
       "      <td>979.3</td>\n",
       "    </tr>\n",
       "    <tr>\n",
       "      <th>2</th>\n",
       "      <td>0.32</td>\n",
       "      <td>F</td>\n",
       "      <td>VVS1</td>\n",
       "      <td>60.8</td>\n",
       "      <td>3159.0</td>\n",
       "      <td>1010.9</td>\n",
       "    </tr>\n",
       "    <tr>\n",
       "      <th>3</th>\n",
       "      <td>0.33</td>\n",
       "      <td>D</td>\n",
       "      <td>IF</td>\n",
       "      <td>60.8</td>\n",
       "      <td>4758.8</td>\n",
       "      <td>1570.4</td>\n",
       "    </tr>\n",
       "    <tr>\n",
       "      <th>4</th>\n",
       "      <td>0.33</td>\n",
       "      <td>G</td>\n",
       "      <td>VVS1</td>\n",
       "      <td>61.5</td>\n",
       "      <td>2895.8</td>\n",
       "      <td>955.6</td>\n",
       "    </tr>\n",
       "    <tr>\n",
       "      <th>...</th>\n",
       "      <td>...</td>\n",
       "      <td>...</td>\n",
       "      <td>...</td>\n",
       "      <td>...</td>\n",
       "      <td>...</td>\n",
       "      <td>...</td>\n",
       "    </tr>\n",
       "    <tr>\n",
       "      <th>302</th>\n",
       "      <td>1.52</td>\n",
       "      <td>F</td>\n",
       "      <td>SI2</td>\n",
       "      <td>63.4</td>\n",
       "      <td>4826.3</td>\n",
       "      <td>7335.9</td>\n",
       "    </tr>\n",
       "    <tr>\n",
       "      <th>303</th>\n",
       "      <td>0.97</td>\n",
       "      <td>G</td>\n",
       "      <td>VVS1</td>\n",
       "      <td>70.0</td>\n",
       "      <td>5177.3</td>\n",
       "      <td>5021.9</td>\n",
       "    </tr>\n",
       "    <tr>\n",
       "      <th>304</th>\n",
       "      <td>1.25</td>\n",
       "      <td>G</td>\n",
       "      <td>VS2</td>\n",
       "      <td>71.9</td>\n",
       "      <td>5607.9</td>\n",
       "      <td>7009.9</td>\n",
       "    </tr>\n",
       "    <tr>\n",
       "      <th>305</th>\n",
       "      <td>1.52</td>\n",
       "      <td>F</td>\n",
       "      <td>VS1</td>\n",
       "      <td>70.4</td>\n",
       "      <td>7634.3</td>\n",
       "      <td>11604.1</td>\n",
       "    </tr>\n",
       "    <tr>\n",
       "      <th>306</th>\n",
       "      <td>1.72</td>\n",
       "      <td>G</td>\n",
       "      <td>VS1</td>\n",
       "      <td>69.1</td>\n",
       "      <td>8081.1</td>\n",
       "      <td>13899.5</td>\n",
       "    </tr>\n",
       "  </tbody>\n",
       "</table>\n",
       "<p>297 rows × 6 columns</p>\n",
       "</div>"
      ],
      "text/plain": [
       "     Carat Color Clarity  Depth  PricePerCt  TotalPrice\n",
       "0     1.08     E     VS1   68.6      6693.3      7228.8\n",
       "1     0.31     F    VVS1   61.9      3159.0       979.3\n",
       "2     0.32     F    VVS1   60.8      3159.0      1010.9\n",
       "3     0.33     D      IF   60.8      4758.8      1570.4\n",
       "4     0.33     G    VVS1   61.5      2895.8       955.6\n",
       "..     ...   ...     ...    ...         ...         ...\n",
       "302   1.52     F     SI2   63.4      4826.3      7335.9\n",
       "303   0.97     G    VVS1   70.0      5177.3      5021.9\n",
       "304   1.25     G     VS2   71.9      5607.9      7009.9\n",
       "305   1.52     F     VS1   70.4      7634.3     11604.1\n",
       "306   1.72     G     VS1   69.1      8081.1     13899.5\n",
       "\n",
       "[297 rows x 6 columns]"
      ]
     },
     "execution_count": 30,
     "metadata": {},
     "output_type": "execute_result"
    }
   ],
   "source": [
    "new_df = data2[(data2['PricePerCt'] < 13159.2) & (data2['PricePerCt'] > -1229)]\n",
    "new_df"
   ]
  },
  {
   "cell_type": "code",
   "execution_count": 32,
   "metadata": {},
   "outputs": [
    {
     "name": "stdout",
     "output_type": "stream",
     "text": [
      "Highest allowed 2.1514315096346164\n",
      "Lowest allowed -0.30072443892754597\n"
     ]
    }
   ],
   "source": [
    "print(\"Highest allowed\",new_df['Carat'].mean() + 3*new_df['Carat'].std())\n",
    "print(\"Lowest allowed\",new_df['Carat'].mean() - 3*new_df['Carat'].std())"
   ]
  },
  {
   "cell_type": "code",
   "execution_count": 33,
   "metadata": {},
   "outputs": [
    {
     "data": {
      "text/html": [
       "<div>\n",
       "<style scoped>\n",
       "    .dataframe tbody tr th:only-of-type {\n",
       "        vertical-align: middle;\n",
       "    }\n",
       "\n",
       "    .dataframe tbody tr th {\n",
       "        vertical-align: top;\n",
       "    }\n",
       "\n",
       "    .dataframe thead th {\n",
       "        text-align: right;\n",
       "    }\n",
       "</style>\n",
       "<table border=\"1\" class=\"dataframe\">\n",
       "  <thead>\n",
       "    <tr style=\"text-align: right;\">\n",
       "      <th></th>\n",
       "      <th>Carat</th>\n",
       "      <th>Color</th>\n",
       "      <th>Clarity</th>\n",
       "      <th>Depth</th>\n",
       "      <th>PricePerCt</th>\n",
       "      <th>TotalPrice</th>\n",
       "    </tr>\n",
       "  </thead>\n",
       "  <tbody>\n",
       "    <tr>\n",
       "      <th>296</th>\n",
       "      <td>2.33</td>\n",
       "      <td>G</td>\n",
       "      <td>VS2</td>\n",
       "      <td>74.2</td>\n",
       "      <td>10428.8</td>\n",
       "      <td>24299.0</td>\n",
       "    </tr>\n",
       "    <tr>\n",
       "      <th>297</th>\n",
       "      <td>2.53</td>\n",
       "      <td>G</td>\n",
       "      <td>IF</td>\n",
       "      <td>74.3</td>\n",
       "      <td>12757.5</td>\n",
       "      <td>32276.5</td>\n",
       "    </tr>\n",
       "  </tbody>\n",
       "</table>\n",
       "</div>"
      ],
      "text/plain": [
       "     Carat Color Clarity  Depth  PricePerCt  TotalPrice\n",
       "296   2.33     G     VS2   74.2     10428.8     24299.0\n",
       "297   2.53     G      IF   74.3     12757.5     32276.5"
      ]
     },
     "execution_count": 33,
     "metadata": {},
     "output_type": "execute_result"
    }
   ],
   "source": [
    "new_df[(new_df['Carat'] > 2.15 ) | (new_df['Carat'] < -0.3)]"
   ]
  },
  {
   "cell_type": "code",
   "execution_count": 35,
   "metadata": {},
   "outputs": [
    {
     "data": {
      "text/html": [
       "<div>\n",
       "<style scoped>\n",
       "    .dataframe tbody tr th:only-of-type {\n",
       "        vertical-align: middle;\n",
       "    }\n",
       "\n",
       "    .dataframe tbody tr th {\n",
       "        vertical-align: top;\n",
       "    }\n",
       "\n",
       "    .dataframe thead th {\n",
       "        text-align: right;\n",
       "    }\n",
       "</style>\n",
       "<table border=\"1\" class=\"dataframe\">\n",
       "  <thead>\n",
       "    <tr style=\"text-align: right;\">\n",
       "      <th></th>\n",
       "      <th>Carat</th>\n",
       "      <th>Color</th>\n",
       "      <th>Clarity</th>\n",
       "      <th>Depth</th>\n",
       "      <th>PricePerCt</th>\n",
       "      <th>TotalPrice</th>\n",
       "    </tr>\n",
       "  </thead>\n",
       "  <tbody>\n",
       "    <tr>\n",
       "      <th>0</th>\n",
       "      <td>1.08</td>\n",
       "      <td>E</td>\n",
       "      <td>VS1</td>\n",
       "      <td>68.6</td>\n",
       "      <td>6693.3</td>\n",
       "      <td>7228.8</td>\n",
       "    </tr>\n",
       "    <tr>\n",
       "      <th>1</th>\n",
       "      <td>0.31</td>\n",
       "      <td>F</td>\n",
       "      <td>VVS1</td>\n",
       "      <td>61.9</td>\n",
       "      <td>3159.0</td>\n",
       "      <td>979.3</td>\n",
       "    </tr>\n",
       "    <tr>\n",
       "      <th>2</th>\n",
       "      <td>0.32</td>\n",
       "      <td>F</td>\n",
       "      <td>VVS1</td>\n",
       "      <td>60.8</td>\n",
       "      <td>3159.0</td>\n",
       "      <td>1010.9</td>\n",
       "    </tr>\n",
       "    <tr>\n",
       "      <th>3</th>\n",
       "      <td>0.33</td>\n",
       "      <td>D</td>\n",
       "      <td>IF</td>\n",
       "      <td>60.8</td>\n",
       "      <td>4758.8</td>\n",
       "      <td>1570.4</td>\n",
       "    </tr>\n",
       "    <tr>\n",
       "      <th>4</th>\n",
       "      <td>0.33</td>\n",
       "      <td>G</td>\n",
       "      <td>VVS1</td>\n",
       "      <td>61.5</td>\n",
       "      <td>2895.8</td>\n",
       "      <td>955.6</td>\n",
       "    </tr>\n",
       "    <tr>\n",
       "      <th>...</th>\n",
       "      <td>...</td>\n",
       "      <td>...</td>\n",
       "      <td>...</td>\n",
       "      <td>...</td>\n",
       "      <td>...</td>\n",
       "      <td>...</td>\n",
       "    </tr>\n",
       "    <tr>\n",
       "      <th>302</th>\n",
       "      <td>1.52</td>\n",
       "      <td>F</td>\n",
       "      <td>SI2</td>\n",
       "      <td>63.4</td>\n",
       "      <td>4826.3</td>\n",
       "      <td>7335.9</td>\n",
       "    </tr>\n",
       "    <tr>\n",
       "      <th>303</th>\n",
       "      <td>0.97</td>\n",
       "      <td>G</td>\n",
       "      <td>VVS1</td>\n",
       "      <td>70.0</td>\n",
       "      <td>5177.3</td>\n",
       "      <td>5021.9</td>\n",
       "    </tr>\n",
       "    <tr>\n",
       "      <th>304</th>\n",
       "      <td>1.25</td>\n",
       "      <td>G</td>\n",
       "      <td>VS2</td>\n",
       "      <td>71.9</td>\n",
       "      <td>5607.9</td>\n",
       "      <td>7009.9</td>\n",
       "    </tr>\n",
       "    <tr>\n",
       "      <th>305</th>\n",
       "      <td>1.52</td>\n",
       "      <td>F</td>\n",
       "      <td>VS1</td>\n",
       "      <td>70.4</td>\n",
       "      <td>7634.3</td>\n",
       "      <td>11604.1</td>\n",
       "    </tr>\n",
       "    <tr>\n",
       "      <th>306</th>\n",
       "      <td>1.72</td>\n",
       "      <td>G</td>\n",
       "      <td>VS1</td>\n",
       "      <td>69.1</td>\n",
       "      <td>8081.1</td>\n",
       "      <td>13899.5</td>\n",
       "    </tr>\n",
       "  </tbody>\n",
       "</table>\n",
       "<p>295 rows × 6 columns</p>\n",
       "</div>"
      ],
      "text/plain": [
       "     Carat Color Clarity  Depth  PricePerCt  TotalPrice\n",
       "0     1.08     E     VS1   68.6      6693.3      7228.8\n",
       "1     0.31     F    VVS1   61.9      3159.0       979.3\n",
       "2     0.32     F    VVS1   60.8      3159.0      1010.9\n",
       "3     0.33     D      IF   60.8      4758.8      1570.4\n",
       "4     0.33     G    VVS1   61.5      2895.8       955.6\n",
       "..     ...   ...     ...    ...         ...         ...\n",
       "302   1.52     F     SI2   63.4      4826.3      7335.9\n",
       "303   0.97     G    VVS1   70.0      5177.3      5021.9\n",
       "304   1.25     G     VS2   71.9      5607.9      7009.9\n",
       "305   1.52     F     VS1   70.4      7634.3     11604.1\n",
       "306   1.72     G     VS1   69.1      8081.1     13899.5\n",
       "\n",
       "[295 rows x 6 columns]"
      ]
     },
     "execution_count": 35,
     "metadata": {},
     "output_type": "execute_result"
    }
   ],
   "source": [
    "new_data = new_df[(new_df['Carat'] < 2.15) & (new_df['Carat'] > -0.3)]\n",
    "new_data"
   ]
  },
  {
   "cell_type": "code",
   "execution_count": 36,
   "metadata": {},
   "outputs": [
    {
     "data": {
      "text/plain": [
       "<AxesSubplot:>"
      ]
     },
     "execution_count": 36,
     "metadata": {},
     "output_type": "execute_result"
    },
    {
     "data": {
      "image/png": "[encoded data removed]",
      "text/plain": [
       "<Figure size 640x480 with 1 Axes>"
      ]
     },
     "metadata": {},
     "output_type": "display_data"
    }
   ],
   "source": [
    "sns.boxplot(new_data['TotalPrice'])"
   ]
  },
  {
   "cell_type": "code",
   "execution_count": 38,
   "metadata": {},
   "outputs": [
    {
     "data": {
      "text/plain": [
       "Index(['Carat', 'Color', 'Clarity', 'Depth', 'PricePerCt', 'TotalPrice'], dtype='object')"
      ]
     },
     "execution_count": 38,
     "metadata": {},
     "output_type": "execute_result"
    }
   ],
   "source": [
    "new_data.columns"
   ]
  },
  {
   "cell_type": "markdown",
   "metadata": {},
   "source": [
    "## Checking for Normality"
   ]
  },
  {
   "cell_type": "code",
   "execution_count": 39,
   "metadata": {},
   "outputs": [
    {
     "name": "stdout",
     "output_type": "stream",
     "text": [
      "lambda=0.864, p=0.000\n",
      "Sample does not look Gaussian (reject H0)\n"
     ]
    }
   ],
   "source": [
    "import scipy.stats as stats\n",
    "from scipy.stats import shapiro\n",
    "stat, p = shapiro(new_data['TotalPrice'])\n",
    "print('lambda=%.3f, p=%.3f' % (stat, p))\n",
    "\n",
    "alpha = 0.05\n",
    "if p > alpha:\n",
    "    print('Sample looks Gaussian (fail to reject H0)')\n",
    "else:\n",
    "    print('Sample does not look Gaussian (reject H0)')"
   ]
  },
  {
   "cell_type": "code",
   "execution_count": 40,
   "metadata": {},
   "outputs": [
    {
     "data": {
      "text/html": [
       "<div>\n",
       "<style scoped>\n",
       "    .dataframe tbody tr th:only-of-type {\n",
       "        vertical-align: middle;\n",
       "    }\n",
       "\n",
       "    .dataframe tbody tr th {\n",
       "        vertical-align: top;\n",
       "    }\n",
       "\n",
       "    .dataframe thead th {\n",
       "        text-align: right;\n",
       "    }\n",
       "</style>\n",
       "<table border=\"1\" class=\"dataframe\">\n",
       "  <thead>\n",
       "    <tr style=\"text-align: right;\">\n",
       "      <th></th>\n",
       "      <th>Carat</th>\n",
       "      <th>Color</th>\n",
       "      <th>Clarity</th>\n",
       "      <th>Depth</th>\n",
       "      <th>PricePerCt</th>\n",
       "      <th>TotalPrice</th>\n",
       "    </tr>\n",
       "  </thead>\n",
       "  <tbody>\n",
       "    <tr>\n",
       "      <th>0</th>\n",
       "      <td>1.08</td>\n",
       "      <td>E</td>\n",
       "      <td>VS1</td>\n",
       "      <td>68.6</td>\n",
       "      <td>6693.3</td>\n",
       "      <td>7228.8</td>\n",
       "    </tr>\n",
       "    <tr>\n",
       "      <th>1</th>\n",
       "      <td>0.31</td>\n",
       "      <td>F</td>\n",
       "      <td>VVS1</td>\n",
       "      <td>61.9</td>\n",
       "      <td>3159.0</td>\n",
       "      <td>979.3</td>\n",
       "    </tr>\n",
       "    <tr>\n",
       "      <th>2</th>\n",
       "      <td>0.32</td>\n",
       "      <td>F</td>\n",
       "      <td>VVS1</td>\n",
       "      <td>60.8</td>\n",
       "      <td>3159.0</td>\n",
       "      <td>1010.9</td>\n",
       "    </tr>\n",
       "    <tr>\n",
       "      <th>3</th>\n",
       "      <td>0.33</td>\n",
       "      <td>D</td>\n",
       "      <td>IF</td>\n",
       "      <td>60.8</td>\n",
       "      <td>4758.8</td>\n",
       "      <td>1570.4</td>\n",
       "    </tr>\n",
       "    <tr>\n",
       "      <th>4</th>\n",
       "      <td>0.33</td>\n",
       "      <td>G</td>\n",
       "      <td>VVS1</td>\n",
       "      <td>61.5</td>\n",
       "      <td>2895.8</td>\n",
       "      <td>955.6</td>\n",
       "    </tr>\n",
       "    <tr>\n",
       "      <th>...</th>\n",
       "      <td>...</td>\n",
       "      <td>...</td>\n",
       "      <td>...</td>\n",
       "      <td>...</td>\n",
       "      <td>...</td>\n",
       "      <td>...</td>\n",
       "    </tr>\n",
       "    <tr>\n",
       "      <th>302</th>\n",
       "      <td>1.52</td>\n",
       "      <td>F</td>\n",
       "      <td>SI2</td>\n",
       "      <td>63.4</td>\n",
       "      <td>4826.3</td>\n",
       "      <td>7335.9</td>\n",
       "    </tr>\n",
       "    <tr>\n",
       "      <th>303</th>\n",
       "      <td>0.97</td>\n",
       "      <td>G</td>\n",
       "      <td>VVS1</td>\n",
       "      <td>70.0</td>\n",
       "      <td>5177.3</td>\n",
       "      <td>5021.9</td>\n",
       "    </tr>\n",
       "    <tr>\n",
       "      <th>304</th>\n",
       "      <td>1.25</td>\n",
       "      <td>G</td>\n",
       "      <td>VS2</td>\n",
       "      <td>71.9</td>\n",
       "      <td>5607.9</td>\n",
       "      <td>7009.9</td>\n",
       "    </tr>\n",
       "    <tr>\n",
       "      <th>305</th>\n",
       "      <td>1.52</td>\n",
       "      <td>F</td>\n",
       "      <td>VS1</td>\n",
       "      <td>70.4</td>\n",
       "      <td>7634.3</td>\n",
       "      <td>11604.1</td>\n",
       "    </tr>\n",
       "    <tr>\n",
       "      <th>306</th>\n",
       "      <td>1.72</td>\n",
       "      <td>G</td>\n",
       "      <td>VS1</td>\n",
       "      <td>69.1</td>\n",
       "      <td>8081.1</td>\n",
       "      <td>13899.5</td>\n",
       "    </tr>\n",
       "  </tbody>\n",
       "</table>\n",
       "<p>295 rows × 6 columns</p>\n",
       "</div>"
      ],
      "text/plain": [
       "     Carat Color Clarity  Depth  PricePerCt  TotalPrice\n",
       "0     1.08     E     VS1   68.6      6693.3      7228.8\n",
       "1     0.31     F    VVS1   61.9      3159.0       979.3\n",
       "2     0.32     F    VVS1   60.8      3159.0      1010.9\n",
       "3     0.33     D      IF   60.8      4758.8      1570.4\n",
       "4     0.33     G    VVS1   61.5      2895.8       955.6\n",
       "..     ...   ...     ...    ...         ...         ...\n",
       "302   1.52     F     SI2   63.4      4826.3      7335.9\n",
       "303   0.97     G    VVS1   70.0      5177.3      5021.9\n",
       "304   1.25     G     VS2   71.9      5607.9      7009.9\n",
       "305   1.52     F     VS1   70.4      7634.3     11604.1\n",
       "306   1.72     G     VS1   69.1      8081.1     13899.5\n",
       "\n",
       "[295 rows x 6 columns]"
      ]
     },
     "execution_count": 40,
     "metadata": {},
     "output_type": "execute_result"
    },
    {
     "data": {
      "image/png": "[encoded data removed]",
      "text/plain": [
       "<Figure size 640x480 with 1 Axes>"
      ]
     },
     "metadata": {},
     "output_type": "display_data"
    }
   ],
   "source": [
    "#Scatter Plot\n",
    "new_data.plot(kind='scatter', x='Carat', y='TotalPrice')\n",
    "new_data"
   ]
  },
  {
   "cell_type": "code",
   "execution_count": 41,
   "metadata": {},
   "outputs": [
    {
     "data": {
      "text/plain": [
       "<seaborn.axisgrid.FacetGrid at 0x17d35182cc8>"
      ]
     },
     "execution_count": 41,
     "metadata": {},
     "output_type": "execute_result"
    },
    {
     "data": {
      "image/png": "[encoded data removed]",
      "text/plain": [
       "<Figure size 500x500 with 1 Axes>"
      ]
     },
     "metadata": {},
     "output_type": "display_data"
    }
   ],
   "source": [
    "sns.displot(new_data['TotalPrice'])"
   ]
  },
  {
   "cell_type": "code",
   "execution_count": 42,
   "metadata": {},
   "outputs": [
    {
     "data": {
      "text/plain": [
       "array(['VS1', 'VVS1', 'IF', 'VVS2', 'VS2', 'SI1', 'SI3', 'SI2'],\n",
       "      dtype=object)"
      ]
     },
     "execution_count": 42,
     "metadata": {},
     "output_type": "execute_result"
    }
   ],
   "source": [
    "#Unique values in Categorical columns\n",
    "\n",
    "new_data.Clarity.unique()"
   ]
  },
  {
   "cell_type": "code",
   "execution_count": 43,
   "metadata": {},
   "outputs": [
    {
     "data": {
      "text/plain": [
       "array(['E', 'F', 'D', 'G'], dtype=object)"
      ]
     },
     "execution_count": 43,
     "metadata": {},
     "output_type": "execute_result"
    }
   ],
   "source": [
    "new_data.Color.unique()"
   ]
  },
  {
   "cell_type": "code",
   "execution_count": 44,
   "metadata": {},
   "outputs": [
    {
     "name": "stdout",
     "output_type": "stream",
     "text": [
      "P-Value for Anova is:  2.4576082679586423e-06\n"
     ]
    }
   ],
   "source": [
    "from scipy.stats import f_oneway\n",
    "CategoryGroupLists=new_data.groupby('Color')['TotalPrice'].apply(list)\n",
    " \n",
    "# Performing the ANOVA test\n",
    "# We accept the Assumption(H0) only when P-Value &gt; 0.05\n",
    "AnovaResults = f_oneway(*CategoryGroupLists)\n",
    "print('P-Value for Anova is: ', AnovaResults[1])\n",
    "#As the output of the P-value is greater, hence, we accept H0. Which means the variables are not correlated with each other."
   ]
  },
  {
   "cell_type": "code",
   "execution_count": 45,
   "metadata": {},
   "outputs": [
    {
     "name": "stdout",
     "output_type": "stream",
     "text": [
      "P-Value for Anova is:  0.07866191023004944\n"
     ]
    }
   ],
   "source": [
    "from scipy.stats import f_oneway\n",
    "CategoryGroupLists=new_data.groupby('Clarity')['TotalPrice'].apply(list)\n",
    " \n",
    "# Performing the ANOVA test\n",
    "# We accept the Assumption(H0) only when P-Value &gt; 0.05\n",
    "AnovaResults = f_oneway(*CategoryGroupLists)\n",
    "print('P-Value for Anova is: ', AnovaResults[1])\n",
    "#As the output of the P-value is greater, hence, we accept H0. Which means the variables are not correlated with each other."
   ]
  },
  {
   "cell_type": "code",
   "execution_count": 46,
   "metadata": {},
   "outputs": [
    {
     "data": {
      "text/plain": [
       "Index(['Carat', 'Color', 'Clarity', 'Depth', 'PricePerCt', 'TotalPrice'], dtype='object')"
      ]
     },
     "execution_count": 46,
     "metadata": {},
     "output_type": "execute_result"
    }
   ],
   "source": [
    "new_data.columns"
   ]
  },
  {
   "cell_type": "code",
   "execution_count": 47,
   "metadata": {},
   "outputs": [
    {
     "data": {
      "text/plain": [
       "(295, 6)"
      ]
     },
     "execution_count": 47,
     "metadata": {},
     "output_type": "execute_result"
    }
   ],
   "source": [
    "new_data.shape"
   ]
  },
  {
   "cell_type": "markdown",
   "metadata": {},
   "source": [
    "## Assigning variables to x,y"
   ]
  },
  {
   "cell_type": "code",
   "execution_count": 48,
   "metadata": {},
   "outputs": [
    {
     "data": {
      "text/html": [
       "<div>\n",
       "<style scoped>\n",
       "    .dataframe tbody tr th:only-of-type {\n",
       "        vertical-align: middle;\n",
       "    }\n",
       "\n",
       "    .dataframe tbody tr th {\n",
       "        vertical-align: top;\n",
       "    }\n",
       "\n",
       "    .dataframe thead th {\n",
       "        text-align: right;\n",
       "    }\n",
       "</style>\n",
       "<table border=\"1\" class=\"dataframe\">\n",
       "  <thead>\n",
       "    <tr style=\"text-align: right;\">\n",
       "      <th></th>\n",
       "      <th>Carat</th>\n",
       "      <th>Depth</th>\n",
       "      <th>PricePerCt</th>\n",
       "      <th>TotalPrice</th>\n",
       "      <th>Color_E</th>\n",
       "      <th>Color_F</th>\n",
       "      <th>Color_G</th>\n",
       "      <th>Clarity_SI1</th>\n",
       "      <th>Clarity_SI2</th>\n",
       "      <th>Clarity_SI3</th>\n",
       "      <th>Clarity_VS1</th>\n",
       "      <th>Clarity_VS2</th>\n",
       "      <th>Clarity_VVS1</th>\n",
       "      <th>Clarity_VVS2</th>\n",
       "    </tr>\n",
       "  </thead>\n",
       "  <tbody>\n",
       "    <tr>\n",
       "      <th>0</th>\n",
       "      <td>1.08</td>\n",
       "      <td>68.6</td>\n",
       "      <td>6693.3</td>\n",
       "      <td>7228.8</td>\n",
       "      <td>1</td>\n",
       "      <td>0</td>\n",
       "      <td>0</td>\n",
       "      <td>0</td>\n",
       "      <td>0</td>\n",
       "      <td>0</td>\n",
       "      <td>1</td>\n",
       "      <td>0</td>\n",
       "      <td>0</td>\n",
       "      <td>0</td>\n",
       "    </tr>\n",
       "    <tr>\n",
       "      <th>1</th>\n",
       "      <td>0.31</td>\n",
       "      <td>61.9</td>\n",
       "      <td>3159.0</td>\n",
       "      <td>979.3</td>\n",
       "      <td>0</td>\n",
       "      <td>1</td>\n",
       "      <td>0</td>\n",
       "      <td>0</td>\n",
       "      <td>0</td>\n",
       "      <td>0</td>\n",
       "      <td>0</td>\n",
       "      <td>0</td>\n",
       "      <td>1</td>\n",
       "      <td>0</td>\n",
       "    </tr>\n",
       "    <tr>\n",
       "      <th>2</th>\n",
       "      <td>0.32</td>\n",
       "      <td>60.8</td>\n",
       "      <td>3159.0</td>\n",
       "      <td>1010.9</td>\n",
       "      <td>0</td>\n",
       "      <td>1</td>\n",
       "      <td>0</td>\n",
       "      <td>0</td>\n",
       "      <td>0</td>\n",
       "      <td>0</td>\n",
       "      <td>0</td>\n",
       "      <td>0</td>\n",
       "      <td>1</td>\n",
       "      <td>0</td>\n",
       "    </tr>\n",
       "    <tr>\n",
       "      <th>3</th>\n",
       "      <td>0.33</td>\n",
       "      <td>60.8</td>\n",
       "      <td>4758.8</td>\n",
       "      <td>1570.4</td>\n",
       "      <td>0</td>\n",
       "      <td>0</td>\n",
       "      <td>0</td>\n",
       "      <td>0</td>\n",
       "      <td>0</td>\n",
       "      <td>0</td>\n",
       "      <td>0</td>\n",
       "      <td>0</td>\n",
       "      <td>0</td>\n",
       "      <td>0</td>\n",
       "    </tr>\n",
       "    <tr>\n",
       "      <th>4</th>\n",
       "      <td>0.33</td>\n",
       "      <td>61.5</td>\n",
       "      <td>2895.8</td>\n",
       "      <td>955.6</td>\n",
       "      <td>0</td>\n",
       "      <td>0</td>\n",
       "      <td>1</td>\n",
       "      <td>0</td>\n",
       "      <td>0</td>\n",
       "      <td>0</td>\n",
       "      <td>0</td>\n",
       "      <td>0</td>\n",
       "      <td>1</td>\n",
       "      <td>0</td>\n",
       "    </tr>\n",
       "    <tr>\n",
       "      <th>...</th>\n",
       "      <td>...</td>\n",
       "      <td>...</td>\n",
       "      <td>...</td>\n",
       "      <td>...</td>\n",
       "      <td>...</td>\n",
       "      <td>...</td>\n",
       "      <td>...</td>\n",
       "      <td>...</td>\n",
       "      <td>...</td>\n",
       "      <td>...</td>\n",
       "      <td>...</td>\n",
       "      <td>...</td>\n",
       "      <td>...</td>\n",
       "      <td>...</td>\n",
       "    </tr>\n",
       "    <tr>\n",
       "      <th>302</th>\n",
       "      <td>1.52</td>\n",
       "      <td>63.4</td>\n",
       "      <td>4826.3</td>\n",
       "      <td>7335.9</td>\n",
       "      <td>0</td>\n",
       "      <td>1</td>\n",
       "      <td>0</td>\n",
       "      <td>0</td>\n",
       "      <td>1</td>\n",
       "      <td>0</td>\n",
       "      <td>0</td>\n",
       "      <td>0</td>\n",
       "      <td>0</td>\n",
       "      <td>0</td>\n",
       "    </tr>\n",
       "    <tr>\n",
       "      <th>303</th>\n",
       "      <td>0.97</td>\n",
       "      <td>70.0</td>\n",
       "      <td>5177.3</td>\n",
       "      <td>5021.9</td>\n",
       "      <td>0</td>\n",
       "      <td>0</td>\n",
       "      <td>1</td>\n",
       "      <td>0</td>\n",
       "      <td>0</td>\n",
       "      <td>0</td>\n",
       "      <td>0</td>\n",
       "      <td>0</td>\n",
       "      <td>1</td>\n",
       "      <td>0</td>\n",
       "    </tr>\n",
       "    <tr>\n",
       "      <th>304</th>\n",
       "      <td>1.25</td>\n",
       "      <td>71.9</td>\n",
       "      <td>5607.9</td>\n",
       "      <td>7009.9</td>\n",
       "      <td>0</td>\n",
       "      <td>0</td>\n",
       "      <td>1</td>\n",
       "      <td>0</td>\n",
       "      <td>0</td>\n",
       "      <td>0</td>\n",
       "      <td>0</td>\n",
       "      <td>1</td>\n",
       "      <td>0</td>\n",
       "      <td>0</td>\n",
       "    </tr>\n",
       "    <tr>\n",
       "      <th>305</th>\n",
       "      <td>1.52</td>\n",
       "      <td>70.4</td>\n",
       "      <td>7634.3</td>\n",
       "      <td>11604.1</td>\n",
       "      <td>0</td>\n",
       "      <td>1</td>\n",
       "      <td>0</td>\n",
       "      <td>0</td>\n",
       "      <td>0</td>\n",
       "      <td>0</td>\n",
       "      <td>1</td>\n",
       "      <td>0</td>\n",
       "      <td>0</td>\n",
       "      <td>0</td>\n",
       "    </tr>\n",
       "    <tr>\n",
       "      <th>306</th>\n",
       "      <td>1.72</td>\n",
       "      <td>69.1</td>\n",
       "      <td>8081.1</td>\n",
       "      <td>13899.5</td>\n",
       "      <td>0</td>\n",
       "      <td>0</td>\n",
       "      <td>1</td>\n",
       "      <td>0</td>\n",
       "      <td>0</td>\n",
       "      <td>0</td>\n",
       "      <td>1</td>\n",
       "      <td>0</td>\n",
       "      <td>0</td>\n",
       "      <td>0</td>\n",
       "    </tr>\n",
       "  </tbody>\n",
       "</table>\n",
       "<p>295 rows × 14 columns</p>\n",
       "</div>"
      ],
      "text/plain": [
       "     Carat  Depth  PricePerCt  TotalPrice  Color_E  Color_F  Color_G  \\\n",
       "0     1.08   68.6      6693.3      7228.8        1        0        0   \n",
       "1     0.31   61.9      3159.0       979.3        0        1        0   \n",
       "2     0.32   60.8      3159.0      1010.9        0        1        0   \n",
       "3     0.33   60.8      4758.8      1570.4        0        0        0   \n",
       "4     0.33   61.5      2895.8       955.6        0        0        1   \n",
       "..     ...    ...         ...         ...      ...      ...      ...   \n",
       "302   1.52   63.4      4826.3      7335.9        0        1        0   \n",
       "303   0.97   70.0      5177.3      5021.9        0        0        1   \n",
       "304   1.25   71.9      5607.9      7009.9        0        0        1   \n",
       "305   1.52   70.4      7634.3     11604.1        0        1        0   \n",
       "306   1.72   69.1      8081.1     13899.5        0        0        1   \n",
       "\n",
       "     Clarity_SI1  Clarity_SI2  Clarity_SI3  Clarity_VS1  Clarity_VS2  \\\n",
       "0              0            0            0            1            0   \n",
       "1              0            0            0            0            0   \n",
       "2              0            0            0            0            0   \n",
       "3              0            0            0            0            0   \n",
       "4              0            0            0            0            0   \n",
       "..           ...          ...          ...          ...          ...   \n",
       "302            0            1            0            0            0   \n",
       "303            0            0            0            0            0   \n",
       "304            0            0            0            0            1   \n",
       "305            0            0            0            1            0   \n",
       "306            0            0            0            1            0   \n",
       "\n",
       "     Clarity_VVS1  Clarity_VVS2  \n",
       "0               0             0  \n",
       "1               1             0  \n",
       "2               1             0  \n",
       "3               0             0  \n",
       "4               1             0  \n",
       "..            ...           ...  \n",
       "302             0             0  \n",
       "303             1             0  \n",
       "304             0             0  \n",
       "305             0             0  \n",
       "306             0             0  \n",
       "\n",
       "[295 rows x 14 columns]"
      ]
     },
     "execution_count": 48,
     "metadata": {},
     "output_type": "execute_result"
    }
   ],
   "source": [
    "#Creating Dummies\n",
    "Datadummies=pd.get_dummies(new_data, columns=['Color', 'Clarity'], drop_first=True)\n",
    "Datadummies"
   ]
  },
  {
   "cell_type": "code",
   "execution_count": 49,
   "metadata": {},
   "outputs": [
    {
     "data": {
      "text/plain": [
       "Index(['Carat', 'Depth', 'PricePerCt', 'TotalPrice', 'Color_E', 'Color_F',\n",
       "       'Color_G', 'Clarity_SI1', 'Clarity_SI2', 'Clarity_SI3', 'Clarity_VS1',\n",
       "       'Clarity_VS2', 'Clarity_VVS1', 'Clarity_VVS2'],\n",
       "      dtype='object')"
      ]
     },
     "execution_count": 49,
     "metadata": {},
     "output_type": "execute_result"
    }
   ],
   "source": [
    "Datadummies.columns"
   ]
  },
  {
   "cell_type": "code",
   "execution_count": 50,
   "metadata": {},
   "outputs": [],
   "source": [
    "import sklearn\n",
    "from sklearn.linear_model import LinearRegression"
   ]
  },
  {
   "cell_type": "code",
   "execution_count": 51,
   "metadata": {},
   "outputs": [],
   "source": [
    "x1=Datadummies[['Carat', 'Depth', 'PricePerCt', 'Color_E', 'Color_F', 'Color_G','Clarity_SI1', 'Clarity_SI2', 'Clarity_SI3', 'Clarity_VS1','Clarity_VS2', 'Clarity_VVS1', 'Clarity_VVS2']]\n",
    "y=Datadummies[['TotalPrice']]"
   ]
  },
  {
   "cell_type": "code",
   "execution_count": 52,
   "metadata": {},
   "outputs": [
    {
     "data": {
      "text/html": [
       "<div>\n",
       "<style scoped>\n",
       "    .dataframe tbody tr th:only-of-type {\n",
       "        vertical-align: middle;\n",
       "    }\n",
       "\n",
       "    .dataframe tbody tr th {\n",
       "        vertical-align: top;\n",
       "    }\n",
       "\n",
       "    .dataframe thead th {\n",
       "        text-align: right;\n",
       "    }\n",
       "</style>\n",
       "<table border=\"1\" class=\"dataframe\">\n",
       "  <thead>\n",
       "    <tr style=\"text-align: right;\">\n",
       "      <th></th>\n",
       "      <th>TotalPrice</th>\n",
       "    </tr>\n",
       "  </thead>\n",
       "  <tbody>\n",
       "    <tr>\n",
       "      <th>0</th>\n",
       "      <td>7228.8</td>\n",
       "    </tr>\n",
       "    <tr>\n",
       "      <th>1</th>\n",
       "      <td>979.3</td>\n",
       "    </tr>\n",
       "    <tr>\n",
       "      <th>2</th>\n",
       "      <td>1010.9</td>\n",
       "    </tr>\n",
       "    <tr>\n",
       "      <th>3</th>\n",
       "      <td>1570.4</td>\n",
       "    </tr>\n",
       "    <tr>\n",
       "      <th>4</th>\n",
       "      <td>955.6</td>\n",
       "    </tr>\n",
       "    <tr>\n",
       "      <th>...</th>\n",
       "      <td>...</td>\n",
       "    </tr>\n",
       "    <tr>\n",
       "      <th>302</th>\n",
       "      <td>7335.9</td>\n",
       "    </tr>\n",
       "    <tr>\n",
       "      <th>303</th>\n",
       "      <td>5021.9</td>\n",
       "    </tr>\n",
       "    <tr>\n",
       "      <th>304</th>\n",
       "      <td>7009.9</td>\n",
       "    </tr>\n",
       "    <tr>\n",
       "      <th>305</th>\n",
       "      <td>11604.1</td>\n",
       "    </tr>\n",
       "    <tr>\n",
       "      <th>306</th>\n",
       "      <td>13899.5</td>\n",
       "    </tr>\n",
       "  </tbody>\n",
       "</table>\n",
       "<p>295 rows × 1 columns</p>\n",
       "</div>"
      ],
      "text/plain": [
       "     TotalPrice\n",
       "0        7228.8\n",
       "1         979.3\n",
       "2        1010.9\n",
       "3        1570.4\n",
       "4         955.6\n",
       "..          ...\n",
       "302      7335.9\n",
       "303      5021.9\n",
       "304      7009.9\n",
       "305     11604.1\n",
       "306     13899.5\n",
       "\n",
       "[295 rows x 1 columns]"
      ]
     },
     "execution_count": 52,
     "metadata": {},
     "output_type": "execute_result"
    }
   ],
   "source": [
    "y"
   ]
  },
  {
   "cell_type": "code",
   "execution_count": 53,
   "metadata": {},
   "outputs": [
    {
     "name": "stdout",
     "output_type": "stream",
     "text": [
      "(206, 13)\n",
      "(89, 13)\n",
      "(206, 1)\n",
      "(89, 1)\n"
     ]
    }
   ],
   "source": [
    "from sklearn.model_selection import train_test_split\n",
    "X_train, X_test, Y_train, Y_test = train_test_split(x1, y, test_size = 0.30)\n",
    "print(X_train.shape)\n",
    "print(X_test.shape)\n",
    "print(Y_train.shape)\n",
    "print(Y_test.shape)\n",
    "\n",
    "#X_train, X_test, Y_train, Y_test = train_test_split(X, y, test_size = 0.30)\n",
    "#print(X_train.shape)\n",
    "#print(X_test.shape)\n",
    "#print(Y_train.shape)\n",
    "#print(Y_test.shape)\n"
   ]
  },
  {
   "cell_type": "code",
   "execution_count": 54,
   "metadata": {},
   "outputs": [
    {
     "name": "stdout",
     "output_type": "stream",
     "text": [
      "0.9710488878269974\n",
      "0.9595096235775549\n"
     ]
    }
   ],
   "source": [
    "regr = LinearRegression()\n",
    "regr.fit(X_train, Y_train)\n",
    "print(regr.score(X_train, Y_train))\n",
    "print(regr.score(X_test, Y_test))"
   ]
  },
  {
   "cell_type": "code",
   "execution_count": 55,
   "metadata": {},
   "outputs": [
    {
     "data": {
      "text/plain": [
       "array([-2736.7119352])"
      ]
     },
     "execution_count": 55,
     "metadata": {},
     "output_type": "execute_result"
    }
   ],
   "source": [
    "regr.intercept_"
   ]
  },
  {
   "cell_type": "code",
   "execution_count": 56,
   "metadata": {},
   "outputs": [],
   "source": [
    "from sklearn.model_selection import cross_val_score\n",
    "from sklearn.model_selection import KFold\n",
    "K_fold_scores = cross_val_score(regr, x1, y, cv=5)\n"
   ]
  },
  {
   "cell_type": "code",
   "execution_count": 57,
   "metadata": {},
   "outputs": [
    {
     "data": {
      "text/plain": [
       "array([-2.93225064, -0.37811234,  0.84133669,  0.93292707,  0.93869013])"
      ]
     },
     "execution_count": 57,
     "metadata": {},
     "output_type": "execute_result"
    }
   ],
   "source": [
    "K_fold_scores"
   ]
  },
  {
   "cell_type": "code",
   "execution_count": 58,
   "metadata": {},
   "outputs": [
    {
     "data": {
      "text/html": [
       "<table class=\"simpletable\">\n",
       "<caption>OLS Regression Results</caption>\n",
       "<tr>\n",
       "  <th>Dep. Variable:</th>       <td>TotalPrice</td>    <th>  R-squared:         </th> <td>   0.971</td> \n",
       "</tr>\n",
       "<tr>\n",
       "  <th>Model:</th>                   <td>OLS</td>       <th>  Adj. R-squared:    </th> <td>   0.969</td> \n",
       "</tr>\n",
       "<tr>\n",
       "  <th>Method:</th>             <td>Least Squares</td>  <th>  F-statistic:       </th> <td>   495.4</td> \n",
       "</tr>\n",
       "<tr>\n",
       "  <th>Date:</th>             <td>Wed, 02 Nov 2022</td> <th>  Prob (F-statistic):</th> <td>5.93e-140</td>\n",
       "</tr>\n",
       "<tr>\n",
       "  <th>Time:</th>                 <td>20:04:56</td>     <th>  Log-Likelihood:    </th> <td> -1661.8</td> \n",
       "</tr>\n",
       "<tr>\n",
       "  <th>No. Observations:</th>      <td>   206</td>      <th>  AIC:               </th> <td>   3352.</td> \n",
       "</tr>\n",
       "<tr>\n",
       "  <th>Df Residuals:</th>          <td>   192</td>      <th>  BIC:               </th> <td>   3398.</td> \n",
       "</tr>\n",
       "<tr>\n",
       "  <th>Df Model:</th>              <td>    13</td>      <th>                     </th>     <td> </td>    \n",
       "</tr>\n",
       "<tr>\n",
       "  <th>Covariance Type:</th>      <td>nonrobust</td>    <th>                     </th>     <td> </td>    \n",
       "</tr>\n",
       "</table>\n",
       "<table class=\"simpletable\">\n",
       "<tr>\n",
       "        <td></td>          <th>coef</th>     <th>std err</th>      <th>t</th>      <th>P>|t|</th>  <th>[0.025</th>    <th>0.975]</th>  \n",
       "</tr>\n",
       "<tr>\n",
       "  <th>const</th>        <td>-2736.7119</td> <td> 1116.148</td> <td>   -2.452</td> <td> 0.015</td> <td>-4938.198</td> <td> -535.226</td>\n",
       "</tr>\n",
       "<tr>\n",
       "  <th>Carat</th>        <td> 7563.8854</td> <td>  467.542</td> <td>   16.178</td> <td> 0.000</td> <td> 6641.707</td> <td> 8486.063</td>\n",
       "</tr>\n",
       "<tr>\n",
       "  <th>Depth</th>        <td>  -46.6634</td> <td>   15.639</td> <td>   -2.984</td> <td> 0.003</td> <td>  -77.510</td> <td>  -15.816</td>\n",
       "</tr>\n",
       "<tr>\n",
       "  <th>PricePerCt</th>   <td>    0.8584</td> <td>    0.065</td> <td>   13.234</td> <td> 0.000</td> <td>    0.730</td> <td>    0.986</td>\n",
       "</tr>\n",
       "<tr>\n",
       "  <th>Color_E</th>      <td>  259.5672</td> <td>  183.674</td> <td>    1.413</td> <td> 0.159</td> <td> -102.710</td> <td>  621.845</td>\n",
       "</tr>\n",
       "<tr>\n",
       "  <th>Color_F</th>      <td>  149.9611</td> <td>  179.947</td> <td>    0.833</td> <td> 0.406</td> <td> -204.966</td> <td>  504.888</td>\n",
       "</tr>\n",
       "<tr>\n",
       "  <th>Color_G</th>      <td>  -94.3398</td> <td>  191.819</td> <td>   -0.492</td> <td> 0.623</td> <td> -472.682</td> <td>  284.003</td>\n",
       "</tr>\n",
       "<tr>\n",
       "  <th>Clarity_SI1</th>  <td> -764.2818</td> <td>  406.659</td> <td>   -1.879</td> <td> 0.062</td> <td>-1566.374</td> <td>   37.811</td>\n",
       "</tr>\n",
       "<tr>\n",
       "  <th>Clarity_SI2</th>  <td>-1375.6092</td> <td>  602.270</td> <td>   -2.284</td> <td> 0.023</td> <td>-2563.524</td> <td> -187.695</td>\n",
       "</tr>\n",
       "<tr>\n",
       "  <th>Clarity_SI3</th>  <td>-1459.5954</td> <td>  774.698</td> <td>   -1.884</td> <td> 0.061</td> <td>-2987.608</td> <td>   68.417</td>\n",
       "</tr>\n",
       "<tr>\n",
       "  <th>Clarity_VS1</th>  <td> -286.3347</td> <td>  333.549</td> <td>   -0.858</td> <td> 0.392</td> <td> -944.226</td> <td>  371.556</td>\n",
       "</tr>\n",
       "<tr>\n",
       "  <th>Clarity_VS2</th>  <td> -128.3974</td> <td>  354.831</td> <td>   -0.362</td> <td> 0.718</td> <td> -828.265</td> <td>  571.470</td>\n",
       "</tr>\n",
       "<tr>\n",
       "  <th>Clarity_VVS1</th> <td>  315.8632</td> <td>  347.215</td> <td>    0.910</td> <td> 0.364</td> <td> -368.983</td> <td> 1000.710</td>\n",
       "</tr>\n",
       "<tr>\n",
       "  <th>Clarity_VVS2</th> <td>  166.4240</td> <td>  352.555</td> <td>    0.472</td> <td> 0.637</td> <td> -528.954</td> <td>  861.802</td>\n",
       "</tr>\n",
       "</table>\n",
       "<table class=\"simpletable\">\n",
       "<tr>\n",
       "  <th>Omnibus:</th>       <td>79.413</td> <th>  Durbin-Watson:     </th> <td>   1.918</td>\n",
       "</tr>\n",
       "<tr>\n",
       "  <th>Prob(Omnibus):</th> <td> 0.000</td> <th>  Jarque-Bera (JB):  </th> <td> 232.090</td>\n",
       "</tr>\n",
       "<tr>\n",
       "  <th>Skew:</th>          <td> 1.656</td> <th>  Prob(JB):          </th> <td>4.00e-51</td>\n",
       "</tr>\n",
       "<tr>\n",
       "  <th>Kurtosis:</th>      <td> 7.009</td> <th>  Cond. No.          </th> <td>1.62e+05</td>\n",
       "</tr>\n",
       "</table><br/><br/>Notes:<br/>[1] Standard Errors assume that the covariance matrix of the errors is correctly specified.<br/>[2] The condition number is large, 1.62e+05. This might indicate that there are<br/>strong multicollinearity or other numerical problems."
      ],
      "text/plain": [
       "<class 'statsmodels.iolib.summary.Summary'>\n",
       "\"\"\"\n",
       "                            OLS Regression Results                            \n",
       "==============================================================================\n",
       "Dep. Variable:             TotalPrice   R-squared:                       0.971\n",
       "Model:                            OLS   Adj. R-squared:                  0.969\n",
       "Method:                 Least Squares   F-statistic:                     495.4\n",
       "Date:                Wed, 02 Nov 2022   Prob (F-statistic):          5.93e-140\n",
       "Time:                        20:04:56   Log-Likelihood:                -1661.8\n",
       "No. Observations:                 206   AIC:                             3352.\n",
       "Df Residuals:                     192   BIC:                             3398.\n",
       "Df Model:                          13                                         \n",
       "Covariance Type:            nonrobust                                         \n",
       "================================================================================\n",
       "                   coef    std err          t      P>|t|      [0.025      0.975]\n",
       "--------------------------------------------------------------------------------\n",
       "const        -2736.7119   1116.148     -2.452      0.015   -4938.198    -535.226\n",
       "Carat         7563.8854    467.542     16.178      0.000    6641.707    8486.063\n",
       "Depth          -46.6634     15.639     -2.984      0.003     -77.510     -15.816\n",
       "PricePerCt       0.8584      0.065     13.234      0.000       0.730       0.986\n",
       "Color_E        259.5672    183.674      1.413      0.159    -102.710     621.845\n",
       "Color_F        149.9611    179.947      0.833      0.406    -204.966     504.888\n",
       "Color_G        -94.3398    191.819     -0.492      0.623    -472.682     284.003\n",
       "Clarity_SI1   -764.2818    406.659     -1.879      0.062   -1566.374      37.811\n",
       "Clarity_SI2  -1375.6092    602.270     -2.284      0.023   -2563.524    -187.695\n",
       "Clarity_SI3  -1459.5954    774.698     -1.884      0.061   -2987.608      68.417\n",
       "Clarity_VS1   -286.3347    333.549     -0.858      0.392    -944.226     371.556\n",
       "Clarity_VS2   -128.3974    354.831     -0.362      0.718    -828.265     571.470\n",
       "Clarity_VVS1   315.8632    347.215      0.910      0.364    -368.983    1000.710\n",
       "Clarity_VVS2   166.4240    352.555      0.472      0.637    -528.954     861.802\n",
       "==============================================================================\n",
       "Omnibus:                       79.413   Durbin-Watson:                   1.918\n",
       "Prob(Omnibus):                  0.000   Jarque-Bera (JB):              232.090\n",
       "Skew:                           1.656   Prob(JB):                     4.00e-51\n",
       "Kurtosis:                       7.009   Cond. No.                     1.62e+05\n",
       "==============================================================================\n",
       "\n",
       "Notes:\n",
       "[1] Standard Errors assume that the covariance matrix of the errors is correctly specified.\n",
       "[2] The condition number is large, 1.62e+05. This might indicate that there are\n",
       "strong multicollinearity or other numerical problems.\n",
       "\"\"\""
      ]
     },
     "execution_count": 58,
     "metadata": {},
     "output_type": "execute_result"
    }
   ],
   "source": [
    "#Stats Model to fit\n",
    "Xtrain_sm = sm.add_constant(X_train)\n",
    "Train = sm.OLS(Y_train, Xtrain_sm).fit()\n",
    "Train.summary()"
   ]
  },
  {
   "cell_type": "code",
   "execution_count": 59,
   "metadata": {},
   "outputs": [
    {
     "data": {
      "text/plain": [
       "const          -2736.711935\n",
       "Carat           7563.885399\n",
       "Depth            -46.663449\n",
       "PricePerCt         0.858378\n",
       "Color_E          259.567191\n",
       "Color_F          149.961103\n",
       "Color_G          -94.339836\n",
       "Clarity_SI1     -764.281769\n",
       "Clarity_SI2    -1375.609221\n",
       "Clarity_SI3    -1459.595359\n",
       "Clarity_VS1     -286.334697\n",
       "Clarity_VS2     -128.397447\n",
       "Clarity_VVS1     315.863246\n",
       "Clarity_VVS2     166.424030\n",
       "dtype: float64"
      ]
     },
     "execution_count": 59,
     "metadata": {},
     "output_type": "execute_result"
    }
   ],
   "source": [
    "Train.params"
   ]
  },
  {
   "cell_type": "code",
   "execution_count": 60,
   "metadata": {},
   "outputs": [
    {
     "data": {
      "text/html": [
       "<table class=\"simpletable\">\n",
       "<caption>OLS Regression Results</caption>\n",
       "<tr>\n",
       "  <th>Dep. Variable:</th>       <td>TotalPrice</td>    <th>  R-squared:         </th> <td>   0.970</td>\n",
       "</tr>\n",
       "<tr>\n",
       "  <th>Model:</th>                   <td>OLS</td>       <th>  Adj. R-squared:    </th> <td>   0.965</td>\n",
       "</tr>\n",
       "<tr>\n",
       "  <th>Method:</th>             <td>Least Squares</td>  <th>  F-statistic:       </th> <td>   203.1</td>\n",
       "</tr>\n",
       "<tr>\n",
       "  <th>Date:</th>             <td>Wed, 02 Nov 2022</td> <th>  Prob (F-statistic):</th> <td>1.51e-52</td>\n",
       "</tr>\n",
       "<tr>\n",
       "  <th>Time:</th>                 <td>20:05:02</td>     <th>  Log-Likelihood:    </th> <td> -735.47</td>\n",
       "</tr>\n",
       "<tr>\n",
       "  <th>No. Observations:</th>      <td>    89</td>      <th>  AIC:               </th> <td>   1497.</td>\n",
       "</tr>\n",
       "<tr>\n",
       "  <th>Df Residuals:</th>          <td>    76</td>      <th>  BIC:               </th> <td>   1529.</td>\n",
       "</tr>\n",
       "<tr>\n",
       "  <th>Df Model:</th>              <td>    12</td>      <th>                     </th>     <td> </td>   \n",
       "</tr>\n",
       "<tr>\n",
       "  <th>Covariance Type:</th>      <td>nonrobust</td>    <th>                     </th>     <td> </td>   \n",
       "</tr>\n",
       "</table>\n",
       "<table class=\"simpletable\">\n",
       "<tr>\n",
       "        <td></td>          <th>coef</th>     <th>std err</th>      <th>t</th>      <th>P>|t|</th>  <th>[0.025</th>    <th>0.975]</th>  \n",
       "</tr>\n",
       "<tr>\n",
       "  <th>const</th>        <td> -277.7046</td> <td> 2104.985</td> <td>   -0.132</td> <td> 0.895</td> <td>-4470.146</td> <td> 3914.737</td>\n",
       "</tr>\n",
       "<tr>\n",
       "  <th>Carat</th>        <td> 9933.4647</td> <td>  962.970</td> <td>   10.315</td> <td> 0.000</td> <td> 8015.545</td> <td> 1.19e+04</td>\n",
       "</tr>\n",
       "<tr>\n",
       "  <th>Depth</th>        <td>  -86.0106</td> <td>   28.982</td> <td>   -2.968</td> <td> 0.004</td> <td> -143.732</td> <td>  -28.289</td>\n",
       "</tr>\n",
       "<tr>\n",
       "  <th>PricePerCt</th>   <td>    0.5959</td> <td>    0.154</td> <td>    3.874</td> <td> 0.000</td> <td>    0.290</td> <td>    0.902</td>\n",
       "</tr>\n",
       "<tr>\n",
       "  <th>Color_E</th>      <td>   36.3613</td> <td>  344.671</td> <td>    0.105</td> <td> 0.916</td> <td> -650.110</td> <td>  722.833</td>\n",
       "</tr>\n",
       "<tr>\n",
       "  <th>Color_F</th>      <td>  160.1755</td> <td>  341.422</td> <td>    0.469</td> <td> 0.640</td> <td> -519.826</td> <td>  840.177</td>\n",
       "</tr>\n",
       "<tr>\n",
       "  <th>Color_G</th>      <td> -189.6013</td> <td>  381.306</td> <td>   -0.497</td> <td> 0.620</td> <td> -949.038</td> <td>  569.835</td>\n",
       "</tr>\n",
       "<tr>\n",
       "  <th>Clarity_SI1</th>  <td> -776.8106</td> <td>  736.033</td> <td>   -1.055</td> <td> 0.295</td> <td>-2242.748</td> <td>  689.127</td>\n",
       "</tr>\n",
       "<tr>\n",
       "  <th>Clarity_SI2</th>  <td>-2487.5577</td> <td>  972.277</td> <td>   -2.558</td> <td> 0.013</td> <td>-4424.014</td> <td> -551.101</td>\n",
       "</tr>\n",
       "<tr>\n",
       "  <th>Clarity_SI3</th>  <td> 2.431e-12</td> <td> 1.31e-12</td> <td>    1.855</td> <td> 0.067</td> <td>-1.79e-13</td> <td> 5.04e-12</td>\n",
       "</tr>\n",
       "<tr>\n",
       "  <th>Clarity_VS1</th>  <td> -691.3801</td> <td>  558.969</td> <td>   -1.237</td> <td> 0.220</td> <td>-1804.663</td> <td>  421.903</td>\n",
       "</tr>\n",
       "<tr>\n",
       "  <th>Clarity_VS2</th>  <td> -380.8863</td> <td>  613.210</td> <td>   -0.621</td> <td> 0.536</td> <td>-1602.199</td> <td>  840.426</td>\n",
       "</tr>\n",
       "<tr>\n",
       "  <th>Clarity_VVS1</th> <td>  650.6428</td> <td>  694.736</td> <td>    0.937</td> <td> 0.352</td> <td> -733.045</td> <td> 2034.330</td>\n",
       "</tr>\n",
       "<tr>\n",
       "  <th>Clarity_VVS2</th> <td> -168.2213</td> <td>  636.266</td> <td>   -0.264</td> <td> 0.792</td> <td>-1435.454</td> <td> 1099.011</td>\n",
       "</tr>\n",
       "</table>\n",
       "<table class=\"simpletable\">\n",
       "<tr>\n",
       "  <th>Omnibus:</th>       <td> 8.938</td> <th>  Durbin-Watson:     </th> <td>   2.051</td>\n",
       "</tr>\n",
       "<tr>\n",
       "  <th>Prob(Omnibus):</th> <td> 0.011</td> <th>  Jarque-Bera (JB):  </th> <td>   8.684</td>\n",
       "</tr>\n",
       "<tr>\n",
       "  <th>Skew:</th>          <td> 0.666</td> <th>  Prob(JB):          </th> <td>  0.0130</td>\n",
       "</tr>\n",
       "<tr>\n",
       "  <th>Kurtosis:</th>      <td> 3.752</td> <th>  Cond. No.          </th> <td>1.62e+21</td>\n",
       "</tr>\n",
       "</table><br/><br/>Notes:<br/>[1] Standard Errors assume that the covariance matrix of the errors is correctly specified.<br/>[2] The smallest eigenvalue is 1.37e-33. This might indicate that there are<br/>strong multicollinearity problems or that the design matrix is singular."
      ],
      "text/plain": [
       "<class 'statsmodels.iolib.summary.Summary'>\n",
       "\"\"\"\n",
       "                            OLS Regression Results                            \n",
       "==============================================================================\n",
       "Dep. Variable:             TotalPrice   R-squared:                       0.970\n",
       "Model:                            OLS   Adj. R-squared:                  0.965\n",
       "Method:                 Least Squares   F-statistic:                     203.1\n",
       "Date:                Wed, 02 Nov 2022   Prob (F-statistic):           1.51e-52\n",
       "Time:                        20:05:02   Log-Likelihood:                -735.47\n",
       "No. Observations:                  89   AIC:                             1497.\n",
       "Df Residuals:                      76   BIC:                             1529.\n",
       "Df Model:                          12                                         \n",
       "Covariance Type:            nonrobust                                         \n",
       "================================================================================\n",
       "                   coef    std err          t      P>|t|      [0.025      0.975]\n",
       "--------------------------------------------------------------------------------\n",
       "const         -277.7046   2104.985     -0.132      0.895   -4470.146    3914.737\n",
       "Carat         9933.4647    962.970     10.315      0.000    8015.545    1.19e+04\n",
       "Depth          -86.0106     28.982     -2.968      0.004    -143.732     -28.289\n",
       "PricePerCt       0.5959      0.154      3.874      0.000       0.290       0.902\n",
       "Color_E         36.3613    344.671      0.105      0.916    -650.110     722.833\n",
       "Color_F        160.1755    341.422      0.469      0.640    -519.826     840.177\n",
       "Color_G       -189.6013    381.306     -0.497      0.620    -949.038     569.835\n",
       "Clarity_SI1   -776.8106    736.033     -1.055      0.295   -2242.748     689.127\n",
       "Clarity_SI2  -2487.5577    972.277     -2.558      0.013   -4424.014    -551.101\n",
       "Clarity_SI3   2.431e-12   1.31e-12      1.855      0.067   -1.79e-13    5.04e-12\n",
       "Clarity_VS1   -691.3801    558.969     -1.237      0.220   -1804.663     421.903\n",
       "Clarity_VS2   -380.8863    613.210     -0.621      0.536   -1602.199     840.426\n",
       "Clarity_VVS1   650.6428    694.736      0.937      0.352    -733.045    2034.330\n",
       "Clarity_VVS2  -168.2213    636.266     -0.264      0.792   -1435.454    1099.011\n",
       "==============================================================================\n",
       "Omnibus:                        8.938   Durbin-Watson:                   2.051\n",
       "Prob(Omnibus):                  0.011   Jarque-Bera (JB):                8.684\n",
       "Skew:                           0.666   Prob(JB):                       0.0130\n",
       "Kurtosis:                       3.752   Cond. No.                     1.62e+21\n",
       "==============================================================================\n",
       "\n",
       "Notes:\n",
       "[1] Standard Errors assume that the covariance matrix of the errors is correctly specified.\n",
       "[2] The smallest eigenvalue is 1.37e-33. This might indicate that there are\n",
       "strong multicollinearity problems or that the design matrix is singular.\n",
       "\"\"\""
      ]
     },
     "execution_count": 60,
     "metadata": {},
     "output_type": "execute_result"
    }
   ],
   "source": [
    "Xtest_sm = sm.add_constant(X_test)\n",
    "Test = sm.OLS(Y_test, Xtest_sm).fit()\n",
    "Test.summary()"
   ]
  },
  {
   "cell_type": "code",
   "execution_count": 61,
   "metadata": {
    "scrolled": true
   },
   "outputs": [
    {
     "data": {
      "text/plain": [
       "const          -2.777046e+02\n",
       "Carat           9.933465e+03\n",
       "Depth          -8.601063e+01\n",
       "PricePerCt      5.959051e-01\n",
       "Color_E         3.636128e+01\n",
       "Color_F         1.601755e+02\n",
       "Color_G        -1.896013e+02\n",
       "Clarity_SI1    -7.768106e+02\n",
       "Clarity_SI2    -2.487558e+03\n",
       "Clarity_SI3     2.431007e-12\n",
       "Clarity_VS1    -6.913801e+02\n",
       "Clarity_VS2    -3.808863e+02\n",
       "Clarity_VVS1    6.506428e+02\n",
       "Clarity_VVS2   -1.682213e+02\n",
       "dtype: float64"
      ]
     },
     "execution_count": 61,
     "metadata": {},
     "output_type": "execute_result"
    }
   ],
   "source": [
    "Test.params"
   ]
  },
  {
   "cell_type": "code",
   "execution_count": 63,
   "metadata": {},
   "outputs": [
    {
     "data": {
      "text/plain": [
       "Ridge(alpha=1, copy_X=True, fit_intercept=True, max_iter=None, normalize=False,\n",
       "      random_state=None, solver='auto', tol=0.001)"
      ]
     },
     "execution_count": 63,
     "metadata": {},
     "output_type": "execute_result"
    }
   ],
   "source": [
    "#Ridge and Lasso Regularization\n",
    "from sklearn.linear_model import Ridge\n",
    "from sklearn.linear_model import Lasso\n",
    "L1_model=Lasso(alpha=1)\n",
    "L2_model=Ridge(alpha=1)\n",
    "L1_model.fit(X_train,Y_train)\n",
    "L2_model.fit(X_train,Y_train)\n"
   ]
  },
  {
   "cell_type": "code",
   "execution_count": 64,
   "metadata": {},
   "outputs": [
    {
     "data": {
      "text/plain": [
       "0.9589029931329841"
      ]
     },
     "execution_count": 64,
     "metadata": {},
     "output_type": "execute_result"
    }
   ],
   "source": [
    "L1_model.score(X_test,Y_test)"
   ]
  },
  {
   "cell_type": "code",
   "execution_count": 65,
   "metadata": {},
   "outputs": [
    {
     "data": {
      "text/plain": [
       "0.9509459344104835"
      ]
     },
     "execution_count": 65,
     "metadata": {},
     "output_type": "execute_result"
    }
   ],
   "source": [
    "L2_model.score(X_test,Y_test)"
   ]
  },
  {
   "cell_type": "code",
   "execution_count": 66,
   "metadata": {},
   "outputs": [],
   "source": [
    "Y_pred = regr.predict(X_test)"
   ]
  },
  {
   "cell_type": "code",
   "execution_count": 67,
   "metadata": {},
   "outputs": [
    {
     "data": {
      "text/plain": [
       "array([[16882.35254286],\n",
       "       [ 8986.5213188 ],\n",
       "       [ 8354.47580012],\n",
       "       [ 3183.42517412],\n",
       "       [13925.33414216],\n",
       "       [ 1969.01815092],\n",
       "       [ 9449.59682169],\n",
       "       [12594.46059959],\n",
       "       [10186.79035902],\n",
       "       [ 2615.52489357],\n",
       "       [18971.784915  ],\n",
       "       [ 3901.16544655],\n",
       "       [ 4060.62284351],\n",
       "       [ 8719.07483753],\n",
       "       [ 1007.08375524],\n",
       "       [ 5467.34649987],\n",
       "       [10349.48944053],\n",
       "       [ 1513.40806964],\n",
       "       [ 3630.02881887],\n",
       "       [ 5952.75561175],\n",
       "       [12229.69225476],\n",
       "       [ 4777.81140438],\n",
       "       [ 1219.0457477 ],\n",
       "       [ 8135.03116165],\n",
       "       [ 7847.35821178],\n",
       "       [ 4437.74119062],\n",
       "       [12122.02937217],\n",
       "       [ 2304.61412279],\n",
       "       [ 8113.22288676],\n",
       "       [ 8679.76231457],\n",
       "       [ 6175.61614786],\n",
       "       [ 4290.3230374 ],\n",
       "       [ 7129.26908397],\n",
       "       [  329.06165657],\n",
       "       [11195.60431239],\n",
       "       [ 2253.07463851],\n",
       "       [ 2119.22101582],\n",
       "       [ 8930.01060122],\n",
       "       [ 1283.3491644 ],\n",
       "       [ -465.10886778],\n",
       "       [19369.6770939 ],\n",
       "       [ 8317.4851873 ],\n",
       "       [  611.75314361],\n",
       "       [   24.03545341],\n",
       "       [ 3295.34153565],\n",
       "       [ 5579.03622163],\n",
       "       [ 4370.24436708],\n",
       "       [ 3336.04002445],\n",
       "       [ -817.97691793],\n",
       "       [ 4661.20915172],\n",
       "       [ 9909.67491295],\n",
       "       [ 7987.67460481],\n",
       "       [ 9649.08187968],\n",
       "       [13692.92852041],\n",
       "       [ 1219.06926605],\n",
       "       [ 2375.58663185],\n",
       "       [ 2946.06308217],\n",
       "       [ 2550.1960645 ],\n",
       "       [18019.99107832],\n",
       "       [ 4490.32174487],\n",
       "       [ 6021.04153997],\n",
       "       [ 4779.58770645],\n",
       "       [ 5352.00144475],\n",
       "       [17683.13059492],\n",
       "       [-1033.15544316],\n",
       "       [  341.12716586],\n",
       "       [ 3794.17729468],\n",
       "       [  582.55815793],\n",
       "       [ 4855.56720989],\n",
       "       [15144.74012063],\n",
       "       [ 4012.94429458],\n",
       "       [ 1752.43558787],\n",
       "       [  389.20067696],\n",
       "       [ 4675.99055678],\n",
       "       [ 6591.30337367],\n",
       "       [ -610.57948693],\n",
       "       [14103.02630612],\n",
       "       [ 4787.73402806],\n",
       "       [ 9740.81909657],\n",
       "       [ 8595.9612647 ],\n",
       "       [ 2731.10771838],\n",
       "       [ 6537.76717378],\n",
       "       [11537.61450694],\n",
       "       [14578.91341786],\n",
       "       [  613.70781373],\n",
       "       [ 1276.91766493],\n",
       "       [ 3672.86821121],\n",
       "       [  694.36951719],\n",
       "       [10776.85940617]])"
      ]
     },
     "execution_count": 67,
     "metadata": {},
     "output_type": "execute_result"
    }
   ],
   "source": [
    "Y_pred"
   ]
  },
  {
   "cell_type": "code",
   "execution_count": 68,
   "metadata": {},
   "outputs": [
    {
     "data": {
      "text/html": [
       "<div>\n",
       "<style scoped>\n",
       "    .dataframe tbody tr th:only-of-type {\n",
       "        vertical-align: middle;\n",
       "    }\n",
       "\n",
       "    .dataframe tbody tr th {\n",
       "        vertical-align: top;\n",
       "    }\n",
       "\n",
       "    .dataframe thead th {\n",
       "        text-align: right;\n",
       "    }\n",
       "</style>\n",
       "<table border=\"1\" class=\"dataframe\">\n",
       "  <thead>\n",
       "    <tr style=\"text-align: right;\">\n",
       "      <th></th>\n",
       "      <th>Carat</th>\n",
       "      <th>Depth</th>\n",
       "      <th>PricePerCt</th>\n",
       "      <th>Color_E</th>\n",
       "      <th>Color_F</th>\n",
       "      <th>Color_G</th>\n",
       "      <th>Clarity_SI1</th>\n",
       "      <th>Clarity_SI2</th>\n",
       "      <th>Clarity_SI3</th>\n",
       "      <th>Clarity_VS1</th>\n",
       "      <th>Clarity_VS2</th>\n",
       "      <th>Clarity_VVS1</th>\n",
       "      <th>Clarity_VVS2</th>\n",
       "    </tr>\n",
       "  </thead>\n",
       "  <tbody>\n",
       "    <tr>\n",
       "      <th>218</th>\n",
       "      <td>2.10</td>\n",
       "      <td>61.3</td>\n",
       "      <td>9396.0</td>\n",
       "      <td>0</td>\n",
       "      <td>0</td>\n",
       "      <td>1</td>\n",
       "      <td>0</td>\n",
       "      <td>1</td>\n",
       "      <td>0</td>\n",
       "      <td>0</td>\n",
       "      <td>0</td>\n",
       "      <td>0</td>\n",
       "      <td>0</td>\n",
       "    </tr>\n",
       "    <tr>\n",
       "      <th>262</th>\n",
       "      <td>1.20</td>\n",
       "      <td>72.6</td>\n",
       "      <td>7188.8</td>\n",
       "      <td>0</td>\n",
       "      <td>1</td>\n",
       "      <td>0</td>\n",
       "      <td>0</td>\n",
       "      <td>0</td>\n",
       "      <td>0</td>\n",
       "      <td>1</td>\n",
       "      <td>0</td>\n",
       "      <td>0</td>\n",
       "      <td>0</td>\n",
       "    </tr>\n",
       "    <tr>\n",
       "      <th>277</th>\n",
       "      <td>1.30</td>\n",
       "      <td>75.1</td>\n",
       "      <td>6264.0</td>\n",
       "      <td>0</td>\n",
       "      <td>1</td>\n",
       "      <td>0</td>\n",
       "      <td>1</td>\n",
       "      <td>0</td>\n",
       "      <td>0</td>\n",
       "      <td>0</td>\n",
       "      <td>0</td>\n",
       "      <td>0</td>\n",
       "      <td>0</td>\n",
       "    </tr>\n",
       "    <tr>\n",
       "      <th>77</th>\n",
       "      <td>0.66</td>\n",
       "      <td>60.0</td>\n",
       "      <td>4374.0</td>\n",
       "      <td>1</td>\n",
       "      <td>0</td>\n",
       "      <td>0</td>\n",
       "      <td>0</td>\n",
       "      <td>0</td>\n",
       "      <td>0</td>\n",
       "      <td>1</td>\n",
       "      <td>0</td>\n",
       "      <td>0</td>\n",
       "      <td>0</td>\n",
       "    </tr>\n",
       "    <tr>\n",
       "      <th>287</th>\n",
       "      <td>1.71</td>\n",
       "      <td>70.3</td>\n",
       "      <td>8424.0</td>\n",
       "      <td>0</td>\n",
       "      <td>0</td>\n",
       "      <td>1</td>\n",
       "      <td>0</td>\n",
       "      <td>0</td>\n",
       "      <td>0</td>\n",
       "      <td>0</td>\n",
       "      <td>1</td>\n",
       "      <td>0</td>\n",
       "      <td>0</td>\n",
       "    </tr>\n",
       "    <tr>\n",
       "      <th>...</th>\n",
       "      <td>...</td>\n",
       "      <td>...</td>\n",
       "      <td>...</td>\n",
       "      <td>...</td>\n",
       "      <td>...</td>\n",
       "      <td>...</td>\n",
       "      <td>...</td>\n",
       "      <td>...</td>\n",
       "      <td>...</td>\n",
       "      <td>...</td>\n",
       "      <td>...</td>\n",
       "      <td>...</td>\n",
       "      <td>...</td>\n",
       "    </tr>\n",
       "    <tr>\n",
       "      <th>26</th>\n",
       "      <td>0.42</td>\n",
       "      <td>62.8</td>\n",
       "      <td>3422.3</td>\n",
       "      <td>0</td>\n",
       "      <td>0</td>\n",
       "      <td>0</td>\n",
       "      <td>0</td>\n",
       "      <td>0</td>\n",
       "      <td>0</td>\n",
       "      <td>0</td>\n",
       "      <td>0</td>\n",
       "      <td>0</td>\n",
       "      <td>1</td>\n",
       "    </tr>\n",
       "    <tr>\n",
       "      <th>222</th>\n",
       "      <td>0.73</td>\n",
       "      <td>64.4</td>\n",
       "      <td>3044.3</td>\n",
       "      <td>1</td>\n",
       "      <td>0</td>\n",
       "      <td>0</td>\n",
       "      <td>0</td>\n",
       "      <td>1</td>\n",
       "      <td>0</td>\n",
       "      <td>0</td>\n",
       "      <td>0</td>\n",
       "      <td>0</td>\n",
       "      <td>0</td>\n",
       "    </tr>\n",
       "    <tr>\n",
       "      <th>82</th>\n",
       "      <td>0.70</td>\n",
       "      <td>62.7</td>\n",
       "      <td>4738.5</td>\n",
       "      <td>1</td>\n",
       "      <td>0</td>\n",
       "      <td>0</td>\n",
       "      <td>0</td>\n",
       "      <td>0</td>\n",
       "      <td>0</td>\n",
       "      <td>1</td>\n",
       "      <td>0</td>\n",
       "      <td>0</td>\n",
       "      <td>0</td>\n",
       "    </tr>\n",
       "    <tr>\n",
       "      <th>35</th>\n",
       "      <td>0.46</td>\n",
       "      <td>61.8</td>\n",
       "      <td>3334.5</td>\n",
       "      <td>1</td>\n",
       "      <td>0</td>\n",
       "      <td>0</td>\n",
       "      <td>0</td>\n",
       "      <td>0</td>\n",
       "      <td>0</td>\n",
       "      <td>1</td>\n",
       "      <td>0</td>\n",
       "      <td>0</td>\n",
       "      <td>0</td>\n",
       "    </tr>\n",
       "    <tr>\n",
       "      <th>176</th>\n",
       "      <td>1.13</td>\n",
       "      <td>61.7</td>\n",
       "      <td>9298.8</td>\n",
       "      <td>0</td>\n",
       "      <td>1</td>\n",
       "      <td>0</td>\n",
       "      <td>0</td>\n",
       "      <td>0</td>\n",
       "      <td>0</td>\n",
       "      <td>1</td>\n",
       "      <td>0</td>\n",
       "      <td>0</td>\n",
       "      <td>0</td>\n",
       "    </tr>\n",
       "  </tbody>\n",
       "</table>\n",
       "<p>89 rows × 13 columns</p>\n",
       "</div>"
      ],
      "text/plain": [
       "     Carat  Depth  PricePerCt  Color_E  Color_F  Color_G  Clarity_SI1  \\\n",
       "218   2.10   61.3      9396.0        0        0        1            0   \n",
       "262   1.20   72.6      7188.8        0        1        0            0   \n",
       "277   1.30   75.1      6264.0        0        1        0            1   \n",
       "77    0.66   60.0      4374.0        1        0        0            0   \n",
       "287   1.71   70.3      8424.0        0        0        1            0   \n",
       "..     ...    ...         ...      ...      ...      ...          ...   \n",
       "26    0.42   62.8      3422.3        0        0        0            0   \n",
       "222   0.73   64.4      3044.3        1        0        0            0   \n",
       "82    0.70   62.7      4738.5        1        0        0            0   \n",
       "35    0.46   61.8      3334.5        1        0        0            0   \n",
       "176   1.13   61.7      9298.8        0        1        0            0   \n",
       "\n",
       "     Clarity_SI2  Clarity_SI3  Clarity_VS1  Clarity_VS2  Clarity_VVS1  \\\n",
       "218            1            0            0            0             0   \n",
       "262            0            0            1            0             0   \n",
       "277            0            0            0            0             0   \n",
       "77             0            0            1            0             0   \n",
       "287            0            0            0            1             0   \n",
       "..           ...          ...          ...          ...           ...   \n",
       "26             0            0            0            0             0   \n",
       "222            1            0            0            0             0   \n",
       "82             0            0            1            0             0   \n",
       "35             0            0            1            0             0   \n",
       "176            0            0            1            0             0   \n",
       "\n",
       "     Clarity_VVS2  \n",
       "218             0  \n",
       "262             0  \n",
       "277             0  \n",
       "77              0  \n",
       "287             0  \n",
       "..            ...  \n",
       "26              1  \n",
       "222             0  \n",
       "82              0  \n",
       "35              0  \n",
       "176             0  \n",
       "\n",
       "[89 rows x 13 columns]"
      ]
     },
     "execution_count": 68,
     "metadata": {},
     "output_type": "execute_result"
    }
   ],
   "source": [
    "df1=pd.DataFrame(X_test)\n",
    "df1\n"
   ]
  },
  {
   "cell_type": "code",
   "execution_count": 69,
   "metadata": {},
   "outputs": [
    {
     "data": {
      "text/html": [
       "<div>\n",
       "<style scoped>\n",
       "    .dataframe tbody tr th:only-of-type {\n",
       "        vertical-align: middle;\n",
       "    }\n",
       "\n",
       "    .dataframe tbody tr th {\n",
       "        vertical-align: top;\n",
       "    }\n",
       "\n",
       "    .dataframe thead th {\n",
       "        text-align: right;\n",
       "    }\n",
       "</style>\n",
       "<table border=\"1\" class=\"dataframe\">\n",
       "  <thead>\n",
       "    <tr style=\"text-align: right;\">\n",
       "      <th></th>\n",
       "      <th>0</th>\n",
       "    </tr>\n",
       "  </thead>\n",
       "  <tbody>\n",
       "    <tr>\n",
       "      <th>0</th>\n",
       "      <td>16882.352543</td>\n",
       "    </tr>\n",
       "    <tr>\n",
       "      <th>1</th>\n",
       "      <td>8986.521319</td>\n",
       "    </tr>\n",
       "    <tr>\n",
       "      <th>2</th>\n",
       "      <td>8354.475800</td>\n",
       "    </tr>\n",
       "    <tr>\n",
       "      <th>3</th>\n",
       "      <td>3183.425174</td>\n",
       "    </tr>\n",
       "    <tr>\n",
       "      <th>4</th>\n",
       "      <td>13925.334142</td>\n",
       "    </tr>\n",
       "    <tr>\n",
       "      <th>...</th>\n",
       "      <td>...</td>\n",
       "    </tr>\n",
       "    <tr>\n",
       "      <th>84</th>\n",
       "      <td>613.707814</td>\n",
       "    </tr>\n",
       "    <tr>\n",
       "      <th>85</th>\n",
       "      <td>1276.917665</td>\n",
       "    </tr>\n",
       "    <tr>\n",
       "      <th>86</th>\n",
       "      <td>3672.868211</td>\n",
       "    </tr>\n",
       "    <tr>\n",
       "      <th>87</th>\n",
       "      <td>694.369517</td>\n",
       "    </tr>\n",
       "    <tr>\n",
       "      <th>88</th>\n",
       "      <td>10776.859406</td>\n",
       "    </tr>\n",
       "  </tbody>\n",
       "</table>\n",
       "<p>89 rows × 1 columns</p>\n",
       "</div>"
      ],
      "text/plain": [
       "               0\n",
       "0   16882.352543\n",
       "1    8986.521319\n",
       "2    8354.475800\n",
       "3    3183.425174\n",
       "4   13925.334142\n",
       "..           ...\n",
       "84    613.707814\n",
       "85   1276.917665\n",
       "86   3672.868211\n",
       "87    694.369517\n",
       "88  10776.859406\n",
       "\n",
       "[89 rows x 1 columns]"
      ]
     },
     "execution_count": 69,
     "metadata": {},
     "output_type": "execute_result"
    }
   ],
   "source": [
    "df2=pd.DataFrame(Y_pred)\n",
    "df2"
   ]
  },
  {
   "cell_type": "code",
   "execution_count": 70,
   "metadata": {},
   "outputs": [
    {
     "data": {
      "text/html": [
       "<div>\n",
       "<style scoped>\n",
       "    .dataframe tbody tr th:only-of-type {\n",
       "        vertical-align: middle;\n",
       "    }\n",
       "\n",
       "    .dataframe tbody tr th {\n",
       "        vertical-align: top;\n",
       "    }\n",
       "\n",
       "    .dataframe thead th {\n",
       "        text-align: right;\n",
       "    }\n",
       "</style>\n",
       "<table border=\"1\" class=\"dataframe\">\n",
       "  <thead>\n",
       "    <tr style=\"text-align: right;\">\n",
       "      <th></th>\n",
       "      <th>TotalPrice</th>\n",
       "    </tr>\n",
       "  </thead>\n",
       "  <tbody>\n",
       "    <tr>\n",
       "      <th>218</th>\n",
       "      <td>19731.6</td>\n",
       "    </tr>\n",
       "    <tr>\n",
       "      <th>262</th>\n",
       "      <td>8626.5</td>\n",
       "    </tr>\n",
       "    <tr>\n",
       "      <th>277</th>\n",
       "      <td>8143.2</td>\n",
       "    </tr>\n",
       "    <tr>\n",
       "      <th>77</th>\n",
       "      <td>2886.8</td>\n",
       "    </tr>\n",
       "    <tr>\n",
       "      <th>287</th>\n",
       "      <td>14405.0</td>\n",
       "    </tr>\n",
       "    <tr>\n",
       "      <th>...</th>\n",
       "      <td>...</td>\n",
       "    </tr>\n",
       "    <tr>\n",
       "      <th>26</th>\n",
       "      <td>1437.4</td>\n",
       "    </tr>\n",
       "    <tr>\n",
       "      <th>222</th>\n",
       "      <td>2222.3</td>\n",
       "    </tr>\n",
       "    <tr>\n",
       "      <th>82</th>\n",
       "      <td>3317.0</td>\n",
       "    </tr>\n",
       "    <tr>\n",
       "      <th>35</th>\n",
       "      <td>1533.9</td>\n",
       "    </tr>\n",
       "    <tr>\n",
       "      <th>176</th>\n",
       "      <td>10507.6</td>\n",
       "    </tr>\n",
       "  </tbody>\n",
       "</table>\n",
       "<p>89 rows × 1 columns</p>\n",
       "</div>"
      ],
      "text/plain": [
       "     TotalPrice\n",
       "218     19731.6\n",
       "262      8626.5\n",
       "277      8143.2\n",
       "77       2886.8\n",
       "287     14405.0\n",
       "..          ...\n",
       "26       1437.4\n",
       "222      2222.3\n",
       "82       3317.0\n",
       "35       1533.9\n",
       "176     10507.6\n",
       "\n",
       "[89 rows x 1 columns]"
      ]
     },
     "execution_count": 70,
     "metadata": {},
     "output_type": "execute_result"
    }
   ],
   "source": [
    "df3=pd.DataFrame(Y_test)\n",
    "df3"
   ]
  },
  {
   "cell_type": "code",
   "execution_count": 72,
   "metadata": {},
   "outputs": [],
   "source": [
    "df1.to_excel(r'C:\\Users\\Bhavani\\Downloads\\export_dataframe.xlsx',index=False,header=True)\n"
   ]
  },
  {
   "cell_type": "code",
   "execution_count": null,
   "metadata": {},
   "outputs": [],
   "source": [
    "df2.to_excel(r'C:\\Users\\Bhavani\\Downloads\\Prediction.xlsx',index=False,header=True)\n"
   ]
  },
  {
   "cell_type": "code",
   "execution_count": null,
   "metadata": {},
   "outputs": [],
   "source": [
    "df3.to_excel(r'C:\\Users\\Bhavani\\Downloads\\Test.xlsx',index=False,header=True)\n"
   ]
  },
  {
   "cell_type": "code",
   "execution_count": 73,
   "metadata": {},
   "outputs": [
    {
     "data": {
      "text/plain": [
       "Text(0.5, 1.0, 'Total Price vs Predicted Price')"
      ]
     },
     "execution_count": 73,
     "metadata": {},
     "output_type": "execute_result"
    },
    {
     "data": {
      "image/png": "[encoded data removed]",
      "text/plain": [
       "<Figure size 640x480 with 1 Axes>"
      ]
     },
     "metadata": {},
     "output_type": "display_data"
    }
   ],
   "source": [
    "plt.scatter(Y_test, Y_pred, c=Y_pred)\n",
    "plt.xlabel(\"Total Price\")\n",
    "plt.ylabel(\"Predicted Price\")\n",
    "plt.title(\"Total Price vs Predicted Price\")"
   ]
  },
  {
   "cell_type": "code",
   "execution_count": 74,
   "metadata": {},
   "outputs": [
    {
     "name": "stdout",
     "output_type": "stream",
     "text": [
      "Mean Square Error: 1180608.7993284517\n"
     ]
    }
   ],
   "source": [
    "mse = sklearn.metrics.mean_squared_error(Y_test, Y_pred)\n",
    "print(\"Mean Square Error:\",mse)"
   ]
  },
  {
   "cell_type": "code",
   "execution_count": 75,
   "metadata": {},
   "outputs": [
    {
     "name": "stdout",
     "output_type": "stream",
     "text": [
      "Final rmse value is = TotalPrice    1086.558236\n",
      "dtype: float64\n"
     ]
    }
   ],
   "source": [
    "print(\"Final rmse value is =\",np.sqrt(np.mean((Y_test-Y_pred)**2)))"
   ]
  },
  {
   "cell_type": "code",
   "execution_count": 76,
   "metadata": {},
   "outputs": [
    {
     "name": "stdout",
     "output_type": "stream",
     "text": [
      "Model Coeficients:\n"
     ]
    },
    {
     "data": {
      "text/plain": [
       "(None,\n",
       " array([[ 7.56388540e+03, -4.66634493e+01,  8.58378421e-01,\n",
       "          2.59567191e+02,  1.49961103e+02, -9.43398356e+01,\n",
       "         -7.64281769e+02, -1.37560922e+03, -1.45959536e+03,\n",
       "         -2.86334697e+02, -1.28397447e+02,  3.15863246e+02,\n",
       "          1.66424030e+02]]))"
      ]
     },
     "execution_count": 76,
     "metadata": {},
     "output_type": "execute_result"
    }
   ],
   "source": [
    "print (\"Model Coeficients:\"), regr.coef_"
   ]
  },
  {
   "cell_type": "code",
   "execution_count": 77,
   "metadata": {},
   "outputs": [
    {
     "name": "stdout",
     "output_type": "stream",
     "text": [
      "Train Accuracy R-Square: 97.10488878269973\n"
     ]
    }
   ],
   "source": [
    "print(\"Train Accuracy R-Square:\",regr.score(X_train, Y_train)*100)"
   ]
  },
  {
   "cell_type": "code",
   "execution_count": 78,
   "metadata": {},
   "outputs": [
    {
     "name": "stdout",
     "output_type": "stream",
     "text": [
      "Test Accuracy R-Square: 95.95096235775549\n"
     ]
    }
   ],
   "source": [
    "print(\"Test Accuracy R-Square:\",regr.score(X_test, Y_test)*100)"
   ]
  },
  {
   "cell_type": "code",
   "execution_count": null,
   "metadata": {},
   "outputs": [],
   "source": []
  }
 ],
 "metadata": {
  "kernelspec": {
   "display_name": "Python 3",
   "language": "python",
   "name": "python3"
  },
  "language_info": {
   "codemirror_mode": {
    "name": "ipython",
    "version": 3
   },
   "file_extension": ".py",
   "mimetype": "text/x-python",
   "name": "python",
   "nbconvert_exporter": "python",
   "pygments_lexer": "ipython3",
   "version": "3.7.6"
  }
 },
 "nbformat": 4,
 "nbformat_minor": 5
}
